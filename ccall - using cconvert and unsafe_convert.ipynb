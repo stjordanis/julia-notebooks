{
 "cells": [
  {
   "cell_type": "markdown",
   "metadata": {},
   "source": [
    "# How to use ccall properly with pointers in C structs\n",
    "\n",
    "This notebook demonstrate how to construct objects that are passed into a C library.  It is a little tricky when a field in the object is stored as a pointer to some julia allocated memory.  The question is how the memory can be preserved from being garbage collected.\n",
    "\n",
    "See discussions at  https://discourse.julialang.org/t/how-to-keep-a-reference-for-c-structure-to-avoid-gc/9310"
   ]
  },
  {
   "cell_type": "markdown",
   "metadata": {},
   "source": [
    "## C program sample"
   ]
  },
  {
   "cell_type": "code",
   "execution_count": 1,
   "metadata": {},
   "outputs": [
    {
     "data": {
      "text/plain": [
       "\"/tmp/test.dylib\""
      ]
     },
     "execution_count": 1,
     "metadata": {},
     "output_type": "execute_result"
    }
   ],
   "source": [
    "const output = \"/tmp/test.dylib\""
   ]
  },
  {
   "cell_type": "code",
   "execution_count": 2,
   "metadata": {
    "collapsed": true
   },
   "outputs": [],
   "source": [
    "cprog = \"\"\"\n",
    "#include <stdlib.h>\n",
    "#include <stdio.h>\n",
    "\n",
    "struct Bar {\n",
    " union {\n",
    "   double val;\n",
    "   struct Bar *ptr;\n",
    " } val;\n",
    " unsigned char ty;\n",
    "};\n",
    "\n",
    "typedef struct Bar *Barp;\n",
    "\n",
    "Barp test1(Barp v) {\n",
    " if (v->ty == 0x00) {\n",
    "   return v;\n",
    "} else {\n",
    "    Barp w1 = v->val.ptr;\n",
    "    Barp w2 = w1 + 1;\n",
    "    Barp b = (Barp) malloc(sizeof(struct Bar));\n",
    "    b->ty = 0x00;\n",
    "    b->val.val = w1->val.val + w2->val.val;\n",
    "    /*printf(\\\"%f + %f = %f\\\\n\\\", w1->val.val, w2->val.val, b->val.val);*/\n",
    "    return b;\n",
    " }\n",
    "}\n",
    "\"\"\";"
   ]
  },
  {
   "cell_type": "code",
   "execution_count": 3,
   "metadata": {},
   "outputs": [],
   "source": [
    "open(`gcc -fPIC -O3 -xc -shared -o $output -`, \"w\") do f\n",
    "     print(f, cprog)\n",
    "end"
   ]
  },
  {
   "cell_type": "markdown",
   "metadata": {},
   "source": [
    "## Wrong implementation (for illustrative purpose only)"
   ]
  },
  {
   "cell_type": "code",
   "execution_count": 4,
   "metadata": {
    "collapsed": true
   },
   "outputs": [],
   "source": [
    "struct Bar\n",
    "    val::UInt64\n",
    "    ty::UInt8\n",
    "    Bar(v::Float64) = new(reinterpret(UInt64, v), 0x00)\n",
    "    Bar(v::Vector{Bar}) = new(reinterpret(UInt64, pointer(v)), 0x01)\n",
    "end"
   ]
  },
  {
   "cell_type": "code",
   "execution_count": 5,
   "metadata": {},
   "outputs": [
    {
     "data": {
      "text/plain": [
       "Bar(0x3ff0000000000000, 0x00)"
      ]
     },
     "execution_count": 5,
     "metadata": {},
     "output_type": "execute_result"
    }
   ],
   "source": [
    "b = Bar(1.0)"
   ]
  },
  {
   "cell_type": "code",
   "execution_count": 6,
   "metadata": {},
   "outputs": [
    {
     "data": {
      "text/plain": [
       "Ptr{Bar} @0x000000011d823c90"
      ]
     },
     "execution_count": 6,
     "metadata": {},
     "output_type": "execute_result"
    }
   ],
   "source": [
    "x = ccall((:test1, output), Ptr{Bar}, (Ptr{Bar},), Ref(b))"
   ]
  },
  {
   "cell_type": "code",
   "execution_count": 7,
   "metadata": {},
   "outputs": [
    {
     "data": {
      "text/plain": [
       "Bar(0x3ff0000000000000, 0x00)"
      ]
     },
     "execution_count": 7,
     "metadata": {},
     "output_type": "execute_result"
    }
   ],
   "source": [
    "y = unsafe_load(x)"
   ]
  },
  {
   "cell_type": "code",
   "execution_count": 8,
   "metadata": {},
   "outputs": [
    {
     "data": {
      "text/plain": [
       "1.0"
      ]
     },
     "execution_count": 8,
     "metadata": {},
     "output_type": "execute_result"
    }
   ],
   "source": [
    "reinterpret(Float64, y.val)"
   ]
  },
  {
   "cell_type": "code",
   "execution_count": 9,
   "metadata": {},
   "outputs": [
    {
     "data": {
      "text/plain": [
       "2-element Array{Bar,1}:\n",
       " Bar(0x4000000000000000, 0x00)\n",
       " Bar(0x4008000000000000, 0x00)"
      ]
     },
     "execution_count": 9,
     "metadata": {},
     "output_type": "execute_result"
    }
   ],
   "source": [
    "b2v = Bar.([2.0,3.0])"
   ]
  },
  {
   "cell_type": "code",
   "execution_count": 10,
   "metadata": {},
   "outputs": [
    {
     "data": {
      "text/plain": [
       "Bar(0x000000010fff5010, 0x01)"
      ]
     },
     "execution_count": 10,
     "metadata": {},
     "output_type": "execute_result"
    }
   ],
   "source": [
    "b2 = Bar(b2v)"
   ]
  },
  {
   "cell_type": "code",
   "execution_count": 11,
   "metadata": {},
   "outputs": [
    {
     "data": {
      "text/plain": [
       "Ptr{Bar} @0x00007f8153696090"
      ]
     },
     "execution_count": 11,
     "metadata": {},
     "output_type": "execute_result"
    }
   ],
   "source": [
    "x2 = ccall((:test1, output), Ptr{Bar}, (Ptr{Bar},), Ref(b2))"
   ]
  },
  {
   "cell_type": "code",
   "execution_count": 12,
   "metadata": {},
   "outputs": [
    {
     "data": {
      "text/plain": [
       "Bar(0x4014000000000000, 0x00)"
      ]
     },
     "execution_count": 12,
     "metadata": {},
     "output_type": "execute_result"
    }
   ],
   "source": [
    "y2 = unsafe_load(x2)"
   ]
  },
  {
   "cell_type": "code",
   "execution_count": 13,
   "metadata": {},
   "outputs": [
    {
     "data": {
      "text/plain": [
       "0x00"
      ]
     },
     "execution_count": 13,
     "metadata": {},
     "output_type": "execute_result"
    }
   ],
   "source": [
    "y2.ty"
   ]
  },
  {
   "cell_type": "code",
   "execution_count": 14,
   "metadata": {},
   "outputs": [
    {
     "data": {
      "text/plain": [
       "5.0"
      ]
     },
     "execution_count": 14,
     "metadata": {},
     "output_type": "execute_result"
    }
   ],
   "source": [
    "reinterpret(Float64, y2.val)"
   ]
  },
  {
   "cell_type": "code",
   "execution_count": 15,
   "metadata": {
    "collapsed": true
   },
   "outputs": [],
   "source": [
    "gc(true)"
   ]
  },
  {
   "cell_type": "code",
   "execution_count": 16,
   "metadata": {},
   "outputs": [
    {
     "data": {
      "text/plain": [
       "foo (generic function with 1 method)"
      ]
     },
     "execution_count": 16,
     "metadata": {},
     "output_type": "execute_result"
    }
   ],
   "source": [
    "function foo(args...)\n",
    "    ar = Bar.([x for x in args])\n",
    "    b = Bar(ar)\n",
    "    x = ccall((:test1, output), Ptr{Bar}, (Ptr{Bar},), Ref(b))\n",
    "    y = unsafe_load(x)\n",
    "    reinterpret(Float64, y.val)\n",
    "end"
   ]
  },
  {
   "cell_type": "code",
   "execution_count": 17,
   "metadata": {},
   "outputs": [
    {
     "data": {
      "text/plain": [
       "14.0"
      ]
     },
     "execution_count": 17,
     "metadata": {},
     "output_type": "execute_result"
    }
   ],
   "source": [
    "foo(12.0, 2.0)"
   ]
  },
  {
   "cell_type": "code",
   "execution_count": 18,
   "metadata": {},
   "outputs": [
    {
     "data": {
      "text/plain": [
       "foo2 (generic function with 1 method)"
      ]
     },
     "execution_count": 18,
     "metadata": {},
     "output_type": "execute_result"
    }
   ],
   "source": [
    "function foo2(args...)\n",
    "    ar = Bar.([x for x in args])\n",
    "    b = Bar(ar)\n",
    "    [rand(1000000) for _ in 1000] # try to cause gc and see if it crashes it\n",
    "    x = ccall((:test1, output), Ptr{Bar}, (Ptr{Bar},), Ref(b))\n",
    "    y = unsafe_load(x)\n",
    "    reinterpret(Float64, y.val)\n",
    "end"
   ]
  },
  {
   "cell_type": "code",
   "execution_count": 19,
   "metadata": {},
   "outputs": [],
   "source": [
    "# not able to crash it yet\n",
    "for i in 1:1000\n",
    "    foo2(1.0, 2.0)\n",
    "end"
   ]
  },
  {
   "cell_type": "markdown",
   "metadata": {},
   "source": [
    "## Correct implementation\n",
    "\n",
    "The idea is to let `ccall` do the conversion.  According to the language documentation, `ccall` will first convert its arguments using [`Base.cconvert`](https://docs.julialang.org/en/stable/stdlib/c/#Base.cconvert) and [`Base.unsafe_convert`](https://docs.julialang.org/en/stable/stdlib/c/#Base.unsafe_convert).  See https://docs.julialang.org/en/stable/manual/calling-c-and-fortran-code/#Auto-conversion:-1\n",
    "\n",
    "So here, we will pass native julia array as an argument to `ccall` and let the internal magic construct the type that the C library requires.  Using dynamic dispatch, we will define `Base.cconvert` and `Base.unsafe_convert` functions."
   ]
  },
  {
   "cell_type": "code",
   "execution_count": 20,
   "metadata": {
    "collapsed": true
   },
   "outputs": [],
   "source": [
    "struct Bar2\n",
    "    val::UInt64\n",
    "    ty::UInt8\n",
    "    Bar2(v::Float64) = new(reinterpret(UInt64, v), 0x00)\n",
    "    Bar2(a::UInt64, b::UInt8) = new(a, b)\n",
    "end"
   ]
  },
  {
   "cell_type": "code",
   "execution_count": 21,
   "metadata": {
    "collapsed": true
   },
   "outputs": [],
   "source": [
    "# This use the `::Float64` constructor\n",
    "Base.cconvert(::Type{Ptr{Bar2}}, v::Float64) = Ref(Bar2(v)) \n",
    "\n",
    "# This replaces the `::Vector{Float64}` constructor\n",
    "function Base.cconvert(::Type{Ptr{Bar2}}, vv::Vector{Float64}) \n",
    "    ar = Bar2.(vv)\n",
    "    bar = Bar2(reinterpret(UInt64, pointer(ar)), 0x01)\n",
    "    return (Ref(bar), ar)\n",
    "end\n",
    "\n",
    "function Base.unsafe_convert(::Type{Ptr{Bar2}}, t::Tuple{Ref{Bar2},Vector{Bar2}})\n",
    "    return convert(Ptr{Bar2}, pointer_from_objref(t[1]))\n",
    "end"
   ]
  },
  {
   "cell_type": "code",
   "execution_count": 22,
   "metadata": {},
   "outputs": [
    {
     "data": {
      "text/plain": [
       "3.0"
      ]
     },
     "execution_count": 22,
     "metadata": {},
     "output_type": "execute_result"
    }
   ],
   "source": [
    "y = ccall((:test1, output), Ptr{Bar2}, (Ptr{Bar2},), [1.0, 2.0])\n",
    "reinterpret(Float64, unsafe_load(y).val)"
   ]
  },
  {
   "cell_type": "code",
   "execution_count": 23,
   "metadata": {},
   "outputs": [
    {
     "data": {
      "text/plain": [
       "unpack (generic function with 1 method)"
      ]
     },
     "execution_count": 23,
     "metadata": {},
     "output_type": "execute_result"
    }
   ],
   "source": [
    "function foo3(args...)\n",
    "    ccall((:test1, output), Ptr{Bar2}, (Ptr{Bar2},), [x for x in args])\n",
    "end\n",
    "\n",
    "function unpack(x)\n",
    "    reinterpret(Float64, unsafe_load(x).val)\n",
    "end"
   ]
  },
  {
   "cell_type": "code",
   "execution_count": 24,
   "metadata": {},
   "outputs": [
    {
     "data": {
      "text/plain": [
       "6.0"
      ]
     },
     "execution_count": 24,
     "metadata": {},
     "output_type": "execute_result"
    }
   ],
   "source": [
    "unpack(foo3(2.0, 4.0))"
   ]
  },
  {
   "cell_type": "code",
   "execution_count": 25,
   "metadata": {},
   "outputs": [],
   "source": [
    "for i in 1:100000\n",
    "    unpack(foo3(2.0 + i, 4.0))\n",
    "end"
   ]
  },
  {
   "cell_type": "code",
   "execution_count": null,
   "metadata": {
    "collapsed": true
   },
   "outputs": [],
   "source": []
  }
 ],
 "metadata": {
  "kernelspec": {
   "display_name": "Julia 0.6.2",
   "language": "julia",
   "name": "julia-0.6"
  },
  "language_info": {
   "file_extension": ".jl",
   "mimetype": "application/julia",
   "name": "julia",
   "version": "0.6.2"
  }
 },
 "nbformat": 4,
 "nbformat_minor": 2
}
