{
 "cells": [
  {
   "cell_type": "markdown",
   "metadata": {},
   "source": [
    "# Performance of SharedArray Passing Styles\n",
    "\n",
    "This notebook demonstrates the performance of different passing styles for SharedArrays.  It doesn't seems to have any significant difference in any methods.\n",
    "\n",
    "### Single object\n",
    "\n",
    "Ref|Best Time(ms)|Objects|Object Size|Style\n",
    "---|------------:|----:--|----------:|:----------------\n",
    "1|25.548|1|5e7|Passing SharedArray argument\n",
    "2|25.510|1|5e7|Passing struct with SharedArray \n",
    "3|25.420|1|5e7|Access SharedArray in global scope\n",
    "\n",
    "\n",
    "### Multiple Objects - Size 1e7\n",
    "\n",
    "Ref|Best Time(ms)|Objects|Object Size|Style\n",
    "---|------------:|----:--|----------:|:----------------\n",
    "4|29.814|6|1e7|Passing multiple SharedArray arguments\n",
    "5|29.682|6|1e7|Passing vector of SharedArray's \n",
    "6|29.774|6|1e7|Passing struct with SharedArray's\n",
    "\n",
    "### Multiple Objects - Size 2e7\n",
    "\n",
    "Ref|Best Time(ms)|Objects|Object Size|Style\n",
    "---|------------:|----:--|----------:|:----------------\n",
    "7|62.928|6|2e7|Passing multiple SharedArray arguments\n",
    "8|60.144|6|2e7|Passing vector of SharedArray's \n",
    "9|60.036|6|2e7|Passing struct with SharedArray's\n",
    "10|59.972|6|2e7|Passing dict of SharedArray's"
   ]
  },
  {
   "cell_type": "code",
   "execution_count": 1,
   "metadata": {
    "collapsed": true
   },
   "outputs": [],
   "source": [
    "using BenchmarkTools"
   ]
  },
  {
   "cell_type": "code",
   "execution_count": 2,
   "metadata": {},
   "outputs": [
    {
     "data": {
      "text/plain": [
       "4-element Array{Int64,1}:\n",
       " 2\n",
       " 3\n",
       " 4\n",
       " 5"
      ]
     },
     "execution_count": 2,
     "metadata": {},
     "output_type": "execute_result"
    }
   ],
   "source": [
    "addprocs()"
   ]
  },
  {
   "cell_type": "code",
   "execution_count": 3,
   "metadata": {
    "collapsed": true
   },
   "outputs": [],
   "source": [
    "@everywhere struct Container\n",
    "    sa::SharedArray{Float64}\n",
    "end"
   ]
  },
  {
   "cell_type": "code",
   "execution_count": 4,
   "metadata": {
    "collapsed": true
   },
   "outputs": [],
   "source": [
    "N = 50_000_000\n",
    "SA = SharedArray{Float64}(N);\n",
    "SB = Container(SharedArray{Float64}(N))\n",
    "rand!(SA)\n",
    "rand!(SB.sa)\n",
    ";"
   ]
  },
  {
   "cell_type": "code",
   "execution_count": 5,
   "metadata": {
    "collapsed": true
   },
   "outputs": [],
   "source": [
    "# Style 1. passing shared array across as argument\n",
    "@everywhere foo(A) = sum(A)\n",
    "\n",
    "# Style 2. passing shared array as in a struct across as argument\n",
    "@everywhere bar(B) = sum(B.sa)"
   ]
  },
  {
   "cell_type": "code",
   "execution_count": 6,
   "metadata": {},
   "outputs": [
    {
     "name": "stdout",
     "output_type": "stream",
     "text": [
      "  25.548 ms (161 allocations: 6.56 KiB)\n"
     ]
    },
    {
     "data": {
      "text/plain": [
       "2.499502276869192e7"
      ]
     },
     "execution_count": 6,
     "metadata": {},
     "output_type": "execute_result"
    }
   ],
   "source": [
    "@btime fetch(@spawnat 2 foo($SA))"
   ]
  },
  {
   "cell_type": "code",
   "execution_count": 7,
   "metadata": {},
   "outputs": [
    {
     "name": "stdout",
     "output_type": "stream",
     "text": [
      "  25.510 ms (165 allocations: 6.63 KiB)\n"
     ]
    },
    {
     "data": {
      "text/plain": [
       "2.499940094927577e7"
      ]
     },
     "execution_count": 7,
     "metadata": {},
     "output_type": "execute_result"
    }
   ],
   "source": [
    "@btime fetch(@spawnat 2 bar($SB))"
   ]
  },
  {
   "cell_type": "code",
   "execution_count": 8,
   "metadata": {},
   "outputs": [
    {
     "name": "stdout",
     "output_type": "stream",
     "text": [
      "\tFrom worker 2:\t                          Base               Module\n",
      "\tFrom worker 2:\t                     Container    152 bytes  DataType\n",
      "\tFrom worker 2:\t                          Core               Module\n",
      "\tFrom worker 2:\t                          Main               Module\n",
      "\tFrom worker 2:\t                           bar      0 bytes  #bar\n",
      "\tFrom worker 2:\t                           foo      0 bytes  #foo\n"
     ]
    }
   ],
   "source": [
    "fetch(@spawnat 2 whos())"
   ]
  },
  {
   "cell_type": "code",
   "execution_count": 9,
   "metadata": {},
   "outputs": [
    {
     "data": {
      "text/plain": [
       "50000000-element SharedArray{Float64,1}:\n",
       " 0.596237 \n",
       " 0.657967 \n",
       " 0.570515 \n",
       " 0.266937 \n",
       " 0.881716 \n",
       " 0.923393 \n",
       " 0.719334 \n",
       " 0.323095 \n",
       " 0.569116 \n",
       " 0.483323 \n",
       " 0.861799 \n",
       " 0.452962 \n",
       " 0.299303 \n",
       " ⋮        \n",
       " 0.700613 \n",
       " 0.0576408\n",
       " 0.310462 \n",
       " 0.392749 \n",
       " 0.236105 \n",
       " 0.250487 \n",
       " 0.021282 \n",
       " 0.440471 \n",
       " 0.673856 \n",
       " 0.302125 \n",
       " 0.145842 \n",
       " 0.185251 "
      ]
     },
     "execution_count": 9,
     "metadata": {},
     "output_type": "execute_result"
    }
   ],
   "source": [
    "fetch(@spawnat 2 identity(SA))"
   ]
  },
  {
   "cell_type": "code",
   "execution_count": 10,
   "metadata": {},
   "outputs": [
    {
     "name": "stdout",
     "output_type": "stream",
     "text": [
      "\tFrom worker 2:\t                          Base               Module\n",
      "\tFrom worker 2:\t                     Container    152 bytes  DataType\n",
      "\tFrom worker 2:\t                          Core               Module\n",
      "\tFrom worker 2:\t                          Main               Module\n",
      "\tFrom worker 2:\t                            SA 390625 KB     50000000-element SharedArray{Float…\n",
      "\tFrom worker 2:\t                           bar      0 bytes  #bar\n"
     ]
    }
   ],
   "source": [
    "fetch(@spawnat 2 whos())"
   ]
  },
  {
   "cell_type": "code",
   "execution_count": 11,
   "metadata": {},
   "outputs": [
    {
     "name": "stdout",
     "output_type": "stream",
     "text": [
      "\tFrom worker 2:\t                           foo      0 bytes  #foo\n"
     ]
    }
   ],
   "source": [
    "# Style 3. Use global SharedArray variable\n",
    "@everywhere woz() = begin global SA; sum(SA); end"
   ]
  },
  {
   "cell_type": "code",
   "execution_count": 12,
   "metadata": {},
   "outputs": [
    {
     "name": "stdout",
     "output_type": "stream",
     "text": [
      "  25.420 ms (129 allocations: 4.69 KiB)\n"
     ]
    },
    {
     "data": {
      "text/plain": [
       "2.499502276869192e7"
      ]
     },
     "execution_count": 12,
     "metadata": {},
     "output_type": "execute_result"
    }
   ],
   "source": [
    "@btime fetch(@spawnat 2 woz())"
   ]
  },
  {
   "cell_type": "code",
   "execution_count": 13,
   "metadata": {},
   "outputs": [
    {
     "data": {
      "text/plain": [
       "76.2939453125"
      ]
     },
     "execution_count": 13,
     "metadata": {},
     "output_type": "execute_result"
    }
   ],
   "source": [
    "# reduce size so we can make 6 of them\n",
    "N = 10_000_000\n",
    "N * 8 / 1024 / 1024"
   ]
  },
  {
   "cell_type": "code",
   "execution_count": 14,
   "metadata": {
    "collapsed": true
   },
   "outputs": [],
   "source": [
    "@everywhere struct Six\n",
    "    S1::SharedArray{Float64}\n",
    "    S2::SharedArray{Float64}\n",
    "    S3::SharedArray{Float64}\n",
    "    S4::SharedArray{Float64}\n",
    "    S5::SharedArray{Float64}\n",
    "    S6::SharedArray{Float64}\n",
    "end"
   ]
  },
  {
   "cell_type": "code",
   "execution_count": 15,
   "metadata": {
    "collapsed": true
   },
   "outputs": [],
   "source": [
    "# Style 4. pass multiple SharedArray's as argument\n",
    "@everywhere daw(a,b,c,d,e,f) = sum(a)+sum(b)+sum(c)+sum(d)+sum(e)+sum(f)\n",
    "\n",
    "# Style 5. pass vector of SharedArray's\n",
    "@everywhere daz(x) = sum(sum.(x))\n",
    "\n",
    "# Style 6. pass struct that contains multiple SharedArray's\n",
    "@everywhere gaw(d) = sum(d.S1) + sum(d.S2) + sum(d.S3) + sum(d.S4) + sum(d.S5) + sum(d.S6)\n",
    "\n",
    "# Style 7. pass dict of SharedArray's\n",
    "@everywhere gam(d) = sum(d[:S1]) + sum(d[:S2]) + sum(d[:S3]) + \n",
    "    sum(d[:S4]) + sum(d[:S5]) + sum(d[:S6])"
   ]
  },
  {
   "cell_type": "code",
   "execution_count": 16,
   "metadata": {},
   "outputs": [
    {
     "data": {
      "text/plain": [
       "Six([0.466808, 0.96324, 0.118648, 0.899985, 0.483694, 0.00410268, 0.819949, 0.233874, 0.373965, 0.887881  …  0.34824, 0.281655, 0.764008, 0.335948, 0.563051, 0.199731, 0.0799466, 0.232247, 0.120913, 0.750186], [0.388344, 0.581768, 0.158713, 0.776752, 0.479047, 0.740093, 0.244597, 0.610926, 0.724766, 0.356857  …  0.677002, 0.102352, 0.424149, 0.85675, 0.112642, 0.862147, 0.775164, 0.919656, 0.159986, 0.481635], [0.405088, 0.550554, 0.881716, 0.422194, 0.700501, 0.980598, 0.164958, 0.412561, 0.485083, 0.613773  …  0.228876, 0.014489, 0.954534, 0.95607, 0.542853, 0.845687, 0.305832, 0.844853, 0.698261, 0.00607508], [0.272337, 0.0902686, 0.0726056, 0.0778901, 0.859491, 0.278753, 0.689527, 0.934602, 0.743676, 0.931294  …  0.195874, 0.682653, 0.692641, 0.863001, 0.852691, 0.986932, 0.117587, 0.181037, 0.18842, 0.657827], [0.536275, 0.218916, 0.216259, 0.609467, 0.934244, 0.705463, 0.20845, 0.886263, 0.244158, 0.225146  …  0.772428, 0.0371161, 0.131306, 0.0404259, 0.0775097, 0.668206, 0.590305, 0.222549, 0.635552, 0.829722], [0.419429, 0.612378, 0.977806, 0.490581, 0.168313, 0.640306, 0.756241, 0.50954, 0.461788, 0.505614  …  0.63296, 0.217138, 0.804993, 0.473119, 0.065402, 0.0058993, 0.276256, 0.592298, 0.680793, 0.677022])"
      ]
     },
     "execution_count": 16,
     "metadata": {},
     "output_type": "execute_result"
    }
   ],
   "source": [
    "# reduce size so we can make 6 of them\n",
    "N = 10_000_000\n",
    "S1 = SharedArray{Float64}(N); rand!(S1)\n",
    "S2 = SharedArray{Float64}(N); rand!(S2)\n",
    "S3 = SharedArray{Float64}(N); rand!(S3)\n",
    "S4 = SharedArray{Float64}(N); rand!(S4)\n",
    "S5 = SharedArray{Float64}(N); rand!(S5)\n",
    "S6 = SharedArray{Float64}(N); rand!(S6)\n",
    "SC = [S1, S2, S3, S4, S5, S6]\n",
    "SD = Six(S1,S2,S3,S4,S5,S6)"
   ]
  },
  {
   "cell_type": "code",
   "execution_count": 17,
   "metadata": {},
   "outputs": [
    {
     "data": {
      "text/plain": [
       "BenchmarkTools.Trial: \n",
       "  memory estimate:  0 bytes\n",
       "  allocs estimate:  0\n",
       "  --------------\n",
       "  minimum time:     29.814 ms (0.00% GC)\n",
       "  median time:      33.063 ms (0.00% GC)\n",
       "  mean time:        34.054 ms (0.00% GC)\n",
       "  maximum time:     101.854 ms (0.00% GC)\n",
       "  --------------\n",
       "  samples:          147\n",
       "  evals/sample:     1"
      ]
     },
     "execution_count": 17,
     "metadata": {},
     "output_type": "execute_result"
    }
   ],
   "source": [
    "@benchmark daw($S1,$S2,$S3,$S4,$S5,$S6)"
   ]
  },
  {
   "cell_type": "code",
   "execution_count": 18,
   "metadata": {},
   "outputs": [
    {
     "data": {
      "text/plain": [
       "BenchmarkTools.Trial: \n",
       "  memory estimate:  128 bytes\n",
       "  allocs estimate:  1\n",
       "  --------------\n",
       "  minimum time:     29.682 ms (0.00% GC)\n",
       "  median time:      30.460 ms (0.00% GC)\n",
       "  mean time:        31.397 ms (0.00% GC)\n",
       "  maximum time:     38.306 ms (0.00% GC)\n",
       "  --------------\n",
       "  samples:          160\n",
       "  evals/sample:     1"
      ]
     },
     "execution_count": 18,
     "metadata": {},
     "output_type": "execute_result"
    }
   ],
   "source": [
    "@benchmark daz($SC)"
   ]
  },
  {
   "cell_type": "code",
   "execution_count": 19,
   "metadata": {},
   "outputs": [
    {
     "data": {
      "text/plain": [
       "BenchmarkTools.Trial: \n",
       "  memory estimate:  224 bytes\n",
       "  allocs estimate:  13\n",
       "  --------------\n",
       "  minimum time:     29.774 ms (0.00% GC)\n",
       "  median time:      30.206 ms (0.00% GC)\n",
       "  mean time:        31.313 ms (0.00% GC)\n",
       "  maximum time:     43.403 ms (0.00% GC)\n",
       "  --------------\n",
       "  samples:          160\n",
       "  evals/sample:     1"
      ]
     },
     "execution_count": 19,
     "metadata": {},
     "output_type": "execute_result"
    }
   ],
   "source": [
    "@benchmark gaw($SD)"
   ]
  },
  {
   "cell_type": "code",
   "execution_count": 20,
   "metadata": {},
   "outputs": [],
   "source": [
    "# reduce size so we can make 6 of them\n",
    "N = 20_000_000\n",
    "S1 = SharedArray{Float64}(N); rand!(S1)\n",
    "S2 = SharedArray{Float64}(N); rand!(S2)\n",
    "S3 = SharedArray{Float64}(N); rand!(S3)\n",
    "S4 = SharedArray{Float64}(N); rand!(S4)\n",
    "S5 = SharedArray{Float64}(N); rand!(S5)\n",
    "S6 = SharedArray{Float64}(N); rand!(S6)\n",
    "SC = [S1, S2, S3, S4, S5, S6]\n",
    "SD = Six(S1,S2,S3,S4,S5,S6)\n",
    "SE = Dict(:S1=>S1,:S2=>S2,:S3=>S3,:S4=>S4,:S5=>S5,:S6=>S6);"
   ]
  },
  {
   "cell_type": "code",
   "execution_count": 21,
   "metadata": {
    "collapsed": true
   },
   "outputs": [],
   "source": [
    "gc(true)  # get ready"
   ]
  },
  {
   "cell_type": "code",
   "execution_count": 22,
   "metadata": {},
   "outputs": [
    {
     "data": {
      "text/plain": [
       "BenchmarkTools.Trial: \n",
       "  memory estimate:  0 bytes\n",
       "  allocs estimate:  0\n",
       "  --------------\n",
       "  minimum time:     62.928 ms (0.00% GC)\n",
       "  median time:      66.861 ms (0.00% GC)\n",
       "  mean time:        75.385 ms (0.00% GC)\n",
       "  maximum time:     357.765 ms (0.00% GC)\n",
       "  --------------\n",
       "  samples:          68\n",
       "  evals/sample:     1"
      ]
     },
     "execution_count": 22,
     "metadata": {},
     "output_type": "execute_result"
    }
   ],
   "source": [
    "@benchmark daw($S1,$S2,$S3,$S4,$S5,$S6)"
   ]
  },
  {
   "cell_type": "code",
   "execution_count": 23,
   "metadata": {},
   "outputs": [
    {
     "data": {
      "text/plain": [
       "BenchmarkTools.Trial: \n",
       "  memory estimate:  128 bytes\n",
       "  allocs estimate:  1\n",
       "  --------------\n",
       "  minimum time:     60.144 ms (0.00% GC)\n",
       "  median time:      62.250 ms (0.00% GC)\n",
       "  mean time:        63.212 ms (0.00% GC)\n",
       "  maximum time:     73.712 ms (0.00% GC)\n",
       "  --------------\n",
       "  samples:          80\n",
       "  evals/sample:     1"
      ]
     },
     "execution_count": 23,
     "metadata": {},
     "output_type": "execute_result"
    }
   ],
   "source": [
    "@benchmark daz($SC)"
   ]
  },
  {
   "cell_type": "code",
   "execution_count": 24,
   "metadata": {},
   "outputs": [
    {
     "data": {
      "text/plain": [
       "BenchmarkTools.Trial: \n",
       "  memory estimate:  224 bytes\n",
       "  allocs estimate:  13\n",
       "  --------------\n",
       "  minimum time:     60.036 ms (0.00% GC)\n",
       "  median time:      61.815 ms (0.00% GC)\n",
       "  mean time:        62.826 ms (0.00% GC)\n",
       "  maximum time:     71.630 ms (0.00% GC)\n",
       "  --------------\n",
       "  samples:          80\n",
       "  evals/sample:     1"
      ]
     },
     "execution_count": 24,
     "metadata": {},
     "output_type": "execute_result"
    }
   ],
   "source": [
    "@benchmark gaw($SD)"
   ]
  },
  {
   "cell_type": "code",
   "execution_count": 25,
   "metadata": {},
   "outputs": [
    {
     "data": {
      "text/plain": [
       "BenchmarkTools.Trial: \n",
       "  memory estimate:  0 bytes\n",
       "  allocs estimate:  0\n",
       "  --------------\n",
       "  minimum time:     59.972 ms (0.00% GC)\n",
       "  median time:      61.763 ms (0.00% GC)\n",
       "  mean time:        62.124 ms (0.00% GC)\n",
       "  maximum time:     69.707 ms (0.00% GC)\n",
       "  --------------\n",
       "  samples:          81\n",
       "  evals/sample:     1"
      ]
     },
     "execution_count": 25,
     "metadata": {},
     "output_type": "execute_result"
    }
   ],
   "source": [
    "@benchmark gam($SE)"
   ]
  },
  {
   "cell_type": "code",
   "execution_count": null,
   "metadata": {
    "collapsed": true
   },
   "outputs": [],
   "source": []
  }
 ],
 "metadata": {
  "kernelspec": {
   "display_name": "Julia 0.6.2",
   "language": "julia",
   "name": "julia-0.6"
  },
  "language_info": {
   "file_extension": ".jl",
   "mimetype": "application/julia",
   "name": "julia",
   "version": "0.6.2"
  }
 },
 "nbformat": 4,
 "nbformat_minor": 2
}
