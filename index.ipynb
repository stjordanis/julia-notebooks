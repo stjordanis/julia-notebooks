{
 "cells": [
  {
   "cell_type": "markdown",
   "metadata": {},
   "source": [
    "# Tom's Julia Notebooks \n",
    "\n",
    "## Parallel Procesing\n",
    "\n",
    "* [Julia constructs for parallel computing](Julia Parallel Processing.ipynb)\n",
    "* [Passing data structures that contains SharedArray](Dict of SharedArrays.ipynb)\n",
    "* [Using SharedArray as input/output of remote processes](Parallel Processing using SharedArray.ipynb)\n"
   ]
  }
 ],
 "metadata": {
  "kernelspec": {
   "display_name": "Julia 0.6.1",
   "language": "julia",
   "name": "julia-0.6"
  },
  "language_info": {
   "file_extension": ".jl",
   "mimetype": "application/julia",
   "name": "julia",
   "version": "0.6.2"
  }
 },
 "nbformat": 4,
 "nbformat_minor": 2
}
