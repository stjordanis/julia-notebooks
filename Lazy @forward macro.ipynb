{
 "cells": [
  {
   "cell_type": "code",
   "execution_count": 1,
   "metadata": {},
   "outputs": [
    {
     "name": "stderr",
     "output_type": "stream",
     "text": [
      "\u001b[1m\u001b[36mINFO: \u001b[39m\u001b[22m\u001b[36mRecompiling stale cache file /Users/tomkwong/.julia/lib/v0.6/Lazy.ji for module Lazy.\n",
      "\u001b[39m"
     ]
    }
   ],
   "source": [
    "using Lazy"
   ]
  },
  {
   "cell_type": "code",
   "execution_count": 2,
   "metadata": {},
   "outputs": [
    {
     "data": {
      "text/markdown": [
       "```\n",
       "@forward T.x functions...\n",
       "```\n",
       "\n",
       "Define methods for `functions` on type `T`, which call the relevant function on the field `x`.\n",
       "\n",
       "# Example\n",
       "\n",
       "```julia\n",
       "struct Wrapper\n",
       "    x\n",
       "end\n",
       "\n",
       "@forward Wrapper.x Base.sqrt             # now sqrt(Wrapper(4.0)) == 2.0\n",
       "```\n"
      ],
      "text/plain": [
       "```\n",
       "@forward T.x functions...\n",
       "```\n",
       "\n",
       "Define methods for `functions` on type `T`, which call the relevant function on the field `x`.\n",
       "\n",
       "# Example\n",
       "\n",
       "```julia\n",
       "struct Wrapper\n",
       "    x\n",
       "end\n",
       "\n",
       "@forward Wrapper.x Base.sqrt             # now sqrt(Wrapper(4.0)) == 2.0\n",
       "```\n"
      ]
     },
     "execution_count": 2,
     "metadata": {},
     "output_type": "execute_result"
    }
   ],
   "source": [
    "?@forward"
   ]
  },
  {
   "cell_type": "code",
   "execution_count": 3,
   "metadata": {},
   "outputs": [],
   "source": [
    "struct MyDict{K,V}\n",
    "    name::String\n",
    "    d::Dict{K,V}\n",
    "end"
   ]
  },
  {
   "cell_type": "code",
   "execution_count": 6,
   "metadata": {},
   "outputs": [],
   "source": [
    "@forward MyDict.d Base.length\n",
    "\n",
    "@forward MyDict.d Base.keys\n",
    "@forward MyDict.d Base.values\n",
    "\n",
    "@forward MyDict.d Base.start\n",
    "@forward MyDict.d Base.next\n",
    "@forward MyDict.d Base.done"
   ]
  },
  {
   "cell_type": "code",
   "execution_count": 8,
   "metadata": {},
   "outputs": [
    {
     "data": {
      "text/plain": [
       "MyDict{Symbol,Int64}(\"Tom\", Dict(:abc=>1,:def=>2))"
      ]
     },
     "execution_count": 8,
     "metadata": {},
     "output_type": "execute_result"
    }
   ],
   "source": [
    "md = MyDict(\"Tom\", Dict(:abc => 1, :def => 2))"
   ]
  },
  {
   "cell_type": "code",
   "execution_count": 9,
   "metadata": {},
   "outputs": [
    {
     "data": {
      "text/plain": [
       "Base.KeyIterator for a Dict{Symbol,Int64} with 2 entries. Keys:\n",
       "  :abc\n",
       "  :def"
      ]
     },
     "execution_count": 9,
     "metadata": {},
     "output_type": "execute_result"
    }
   ],
   "source": [
    "keys(md)"
   ]
  },
  {
   "cell_type": "code",
   "execution_count": 10,
   "metadata": {},
   "outputs": [
    {
     "data": {
      "text/plain": [
       "2"
      ]
     },
     "execution_count": 10,
     "metadata": {},
     "output_type": "execute_result"
    }
   ],
   "source": [
    "length(md)"
   ]
  }
 ],
 "metadata": {
  "kernelspec": {
   "display_name": "Julia 0.6.2",
   "language": "julia",
   "name": "julia-0.6"
  },
  "language_info": {
   "file_extension": ".jl",
   "mimetype": "application/julia",
   "name": "julia",
   "version": "0.6.2"
  }
 },
 "nbformat": 4,
 "nbformat_minor": 2
}
