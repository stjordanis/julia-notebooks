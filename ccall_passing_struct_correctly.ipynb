{
 "cells": [
  {
   "cell_type": "markdown",
   "metadata": {},
   "source": [
    "## How to use ccall properly\n",
    "\n",
    "This notebook demonstrates a couple of ways to make calls to C functions that \n",
    "accept either C structs or pointer to C struct.\n",
    "\n",
    "Cases as follows:\n",
    "\n",
    "- test1: takes no argument\n",
    "- test2: takes a struct argument\n",
    "- test3: takes a pointer to a struct argument\n",
    "- test4: takes a pointer to a struct argument and returns a pointer to a struct"
   ]
  },
  {
   "cell_type": "code",
   "execution_count": 4,
   "metadata": {},
   "outputs": [
    {
     "data": {
      "text/plain": [
       "\"/tmp/test.dylib\""
      ]
     },
     "execution_count": 4,
     "metadata": {},
     "output_type": "execute_result"
    }
   ],
   "source": [
    "const output = \"/tmp/test.dylib\""
   ]
  },
  {
   "cell_type": "code",
   "execution_count": 5,
   "metadata": {},
   "outputs": [],
   "source": [
    "cprog = \"\"\"\n",
    "#include <stdlib.h>\n",
    "\n",
    "typedef struct \n",
    "{\n",
    "    int a;\n",
    "    double b;\n",
    "} FOO, *FOOP;\n",
    "\n",
    "FOO test1() {\n",
    "    FOO x;\n",
    "    x.a = 1;\n",
    "    x.b = 2.0;\n",
    "    return x;\n",
    "}\n",
    "\n",
    "FOO test2(FOO x) {\n",
    "    return x;\n",
    "}\n",
    "\n",
    "FOO test3(FOOP xp) {\n",
    "    FOO y;\n",
    "    y.a = xp->a;\n",
    "    y.b = xp->b;\n",
    "    return y;\n",
    "}\n",
    "\n",
    "FOOP test4(FOOP xp) {\n",
    "    FOOP yp = (FOOP) malloc(sizeof(FOO));\n",
    "    yp->a = xp->a;\n",
    "    yp->b = xp-> b;\n",
    "    return yp;\n",
    "}\n",
    "\"\"\";"
   ]
  },
  {
   "cell_type": "code",
   "execution_count": 6,
   "metadata": {},
   "outputs": [],
   "source": [
    "open(`gcc -fPIC -O3 -xc -shared -o $output -`, \"w\") do f\n",
    "     print(f, cprog)\n",
    "end"
   ]
  },
  {
   "cell_type": "code",
   "execution_count": 7,
   "metadata": {},
   "outputs": [],
   "source": [
    "struct FOO\n",
    "    a::Cint\n",
    "    b::Cdouble\n",
    "end"
   ]
  },
  {
   "cell_type": "markdown",
   "metadata": {},
   "source": [
    "### Test1 - No argument & returns statically constructed struct"
   ]
  },
  {
   "cell_type": "code",
   "execution_count": 8,
   "metadata": {},
   "outputs": [
    {
     "data": {
      "text/plain": [
       "FOO(1, 2.0)"
      ]
     },
     "execution_count": 8,
     "metadata": {},
     "output_type": "execute_result"
    }
   ],
   "source": [
    "x = ccall((:test1, output), FOO, ())"
   ]
  },
  {
   "cell_type": "code",
   "execution_count": 9,
   "metadata": {},
   "outputs": [
    {
     "data": {
      "text/plain": [
       "FOO(1, 2.0)"
      ]
     },
     "execution_count": 9,
     "metadata": {},
     "output_type": "execute_result"
    }
   ],
   "source": [
    "GC.gc(true)\n",
    "x"
   ]
  },
  {
   "cell_type": "markdown",
   "metadata": {},
   "source": [
    "### Test2 - Struct argument & returns the argument itself"
   ]
  },
  {
   "cell_type": "code",
   "execution_count": 11,
   "metadata": {},
   "outputs": [
    {
     "data": {
      "text/plain": [
       "FOO(1, 2.0)"
      ]
     },
     "execution_count": 11,
     "metadata": {},
     "output_type": "execute_result"
    }
   ],
   "source": [
    "y = ccall((:test2, output), FOO, (FOO,), x)"
   ]
  },
  {
   "cell_type": "code",
   "execution_count": 13,
   "metadata": {},
   "outputs": [
    {
     "data": {
      "text/plain": [
       "true"
      ]
     },
     "execution_count": 13,
     "metadata": {},
     "output_type": "execute_result"
    }
   ],
   "source": [
    "# same object?\n",
    "x === y"
   ]
  },
  {
   "cell_type": "markdown",
   "metadata": {},
   "source": [
    "### Test3 - Pointer-to-Struct argument & returns static Struct"
   ]
  },
  {
   "cell_type": "code",
   "execution_count": 19,
   "metadata": {},
   "outputs": [
    {
     "data": {
      "text/plain": [
       "FOO(1, 2.0)"
      ]
     },
     "execution_count": 19,
     "metadata": {},
     "output_type": "execute_result"
    }
   ],
   "source": [
    "x"
   ]
  },
  {
   "cell_type": "code",
   "execution_count": 23,
   "metadata": {},
   "outputs": [
    {
     "name": "stdout",
     "output_type": "stream",
     "text": [
      "p = ccall((:test3, output), FOO, (Ptr{FOO},), Ref(x)) = FOO(1, 2.0)\n",
      "a = ccall((:test3, output), FOO, (Ptr{FOO},), Ref(x)) = FOO(1, 2.0)\n"
     ]
    }
   ],
   "source": [
    "@show p = ccall((:test3, output), FOO, (Ptr{FOO},), Ref(x))\n",
    "@show a = ccall((:test3, output), FOO, (Ptr{FOO},), Ref(x))\n",
    ";"
   ]
  },
  {
   "cell_type": "code",
   "execution_count": 26,
   "metadata": {},
   "outputs": [
    {
     "data": {
      "text/plain": [
       "true"
      ]
     },
     "execution_count": 26,
     "metadata": {},
     "output_type": "execute_result"
    }
   ],
   "source": [
    "# same?  that's interesting...\n",
    "p === a"
   ]
  },
  {
   "cell_type": "markdown",
   "metadata": {},
   "source": [
    "### Test4 - Pointer-to-Struct argument & returns malloc'ed Pointer-to-Struct"
   ]
  },
  {
   "cell_type": "code",
   "execution_count": 27,
   "metadata": {},
   "outputs": [
    {
     "data": {
      "text/plain": [
       "Ptr{FOO} @0x00007fc8667b9b70"
      ]
     },
     "execution_count": 27,
     "metadata": {},
     "output_type": "execute_result"
    }
   ],
   "source": [
    "# use Ref to pass a proper address to the C function\n",
    "q = ccall((:test4, output), Ptr{FOO}, (Ptr{FOO},), Ref(x))"
   ]
  },
  {
   "cell_type": "code",
   "execution_count": 28,
   "metadata": {},
   "outputs": [
    {
     "data": {
      "text/plain": [
       "FOO(1, 2.0)"
      ]
     },
     "execution_count": 28,
     "metadata": {},
     "output_type": "execute_result"
    }
   ],
   "source": [
    "# Reconstruct the julia object\n",
    "q2 = unsafe_load(q)"
   ]
  },
  {
   "cell_type": "code",
   "execution_count": 32,
   "metadata": {},
   "outputs": [
    {
     "data": {
      "text/plain": [
       "Ptr{FOO} @0x00007fc8666ac720"
      ]
     },
     "execution_count": 32,
     "metadata": {},
     "output_type": "execute_result"
    }
   ],
   "source": [
    "# nothing special, just defining a function here\n",
    "bar(value) = ccall((:test4, output), Ptr{FOO}, (Ptr{FOO},), Ref(value))\n",
    "x2 = bar(x)"
   ]
  },
  {
   "cell_type": "code",
   "execution_count": 33,
   "metadata": {},
   "outputs": [
    {
     "data": {
      "text/plain": [
       "FOO(1, 2.0)"
      ]
     },
     "execution_count": 33,
     "metadata": {},
     "output_type": "execute_result"
    }
   ],
   "source": [
    "# can still convert it back to julia object\n",
    "unsafe_load(x2)"
   ]
  },
  {
   "cell_type": "code",
   "execution_count": 35,
   "metadata": {},
   "outputs": [
    {
     "data": {
      "text/plain": [
       "Base.RefValue{FOO}"
      ]
     },
     "execution_count": 35,
     "metadata": {},
     "output_type": "execute_result"
    }
   ],
   "source": [
    "# what is the type of Ref(x) anyways?\n",
    "typeof(Ref(x))"
   ]
  },
  {
   "cell_type": "code",
   "execution_count": 36,
   "metadata": {},
   "outputs": [
    {
     "data": {
      "text/plain": [
       "woz (generic function with 1 method)"
      ]
     },
     "execution_count": 36,
     "metadata": {},
     "output_type": "execute_result"
    }
   ],
   "source": [
    "# so we can define a function as such.\n",
    "woz(xr::Base.RefValue{FOO}) = ccall((:test4, output), Ptr{FOO}, (Ptr{FOO},), xr)"
   ]
  },
  {
   "cell_type": "code",
   "execution_count": 37,
   "metadata": {},
   "outputs": [
    {
     "data": {
      "text/plain": [
       "Ptr{FOO} @0x00007fc86638d0c0"
      ]
     },
     "execution_count": 37,
     "metadata": {},
     "output_type": "execute_result"
    }
   ],
   "source": [
    "woz(Ref(x))"
   ]
  },
  {
   "cell_type": "code",
   "execution_count": 39,
   "metadata": {},
   "outputs": [
    {
     "data": {
      "text/plain": [
       "Ptr{FOO} @0x00007fc8660d2e80"
      ]
     },
     "execution_count": 39,
     "metadata": {},
     "output_type": "execute_result"
    }
   ],
   "source": [
    "woz(Ref(x))"
   ]
  },
  {
   "cell_type": "code",
   "execution_count": 40,
   "metadata": {},
   "outputs": [
    {
     "data": {
      "text/plain": [
       "FOO(1, 2.0)"
      ]
     },
     "execution_count": 40,
     "metadata": {},
     "output_type": "execute_result"
    }
   ],
   "source": [
    "unsafe_load(woz(Ref(x)))"
   ]
  }
 ],
 "metadata": {
  "kernelspec": {
   "display_name": "Julia 1.0.1",
   "language": "julia",
   "name": "julia-1.0"
  },
  "language_info": {
   "file_extension": ".jl",
   "mimetype": "application/julia",
   "name": "julia",
   "version": "1.0.1"
  }
 },
 "nbformat": 4,
 "nbformat_minor": 2
}
