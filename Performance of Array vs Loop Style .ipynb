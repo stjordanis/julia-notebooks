{
 "cells": [
  {
   "cell_type": "markdown",
   "metadata": {},
   "source": [
    "# Performance of Array vs Loop Style \n",
    "\n",
    "This notebook demonstrates that loop-style code still outperforms array-style code as of Julia v0.6.2.  The code for benchmarking is borrowed directly from the Julia performance workshop at JuliaCon 2016 by Arch D. Robison.\n",
    "\n",
    "See video at https://www.youtube.com/watch?v=szE4txAD8mk"
   ]
  },
  {
   "cell_type": "markdown",
   "metadata": {},
   "source": [
    "#### Array-style"
   ]
  },
  {
   "cell_type": "code",
   "execution_count": null,
   "metadata": {
    "collapsed": true
   },
   "outputs": [],
   "source": [
    "function foo(c, w, i, j, dx, dy)\n",
    "    dw = w[:,i] - w[:,j]\n",
    "    c[:,1] += dw * dx\n",
    "    c[:,2] += dw * dy\n",
    "end"
   ]
  },
  {
   "cell_type": "markdown",
   "metadata": {},
   "source": [
    "#### Loop-style"
   ]
  },
  {
   "cell_type": "code",
   "execution_count": 2,
   "metadata": {},
   "outputs": [
    {
     "data": {
      "text/plain": [
       "bar (generic function with 1 method)"
      ]
     },
     "execution_count": 2,
     "metadata": {},
     "output_type": "execute_result"
    }
   ],
   "source": [
    "function bar(c, w, i, j, dx, dy)\n",
    "    m, n = size(w)\n",
    "    for k = 1:m\n",
    "        dw = w[k,i] - w[k,j]\n",
    "        c[k,1] += dw * dx\n",
    "        c[k,2] += dw * dy\n",
    "    end\n",
    "end"
   ]
  },
  {
   "cell_type": "markdown",
   "metadata": {},
   "source": [
    "#### Verify both functions work the same way"
   ]
  },
  {
   "cell_type": "code",
   "execution_count": 3,
   "metadata": {},
   "outputs": [
    {
     "data": {
      "text/plain": [
       "10×10 Array{Float64,2}:\n",
       " 0.865573  0.729865  0.969893  0.262898   …  0.654395   0.609925   0.426222 \n",
       " 0.475022  0.150922  0.730453  0.607109      0.513592   0.801204   0.271387 \n",
       " 0.885364  0.65157   0.248171  0.771997      0.0775057  0.855948   0.0049222\n",
       " 0.372987  0.988638  0.927938  0.163775      0.290307   0.607091   0.780549 \n",
       " 0.336583  0.426304  0.528664  0.0754067     0.911839   0.0213179  0.19275  \n",
       " 0.238581  0.219954  0.713346  0.106057   …  0.525553   0.635506   0.340465 \n",
       " 0.370079  0.579456  0.211741  0.126389      0.646627   0.589706   0.624614 \n",
       " 0.585515  0.384464  0.261348  0.965125      0.560094   0.14339    0.896444 \n",
       " 0.678774  0.599189  0.184715  0.16788       0.460699   0.168255   0.543777 \n",
       " 0.272665  0.466196  0.789117  0.809847      0.938572   0.990326   0.215268 "
      ]
     },
     "execution_count": 3,
     "metadata": {},
     "output_type": "execute_result"
    }
   ],
   "source": [
    "# sample data to work with\n",
    "z = rand(10,10)"
   ]
  },
  {
   "cell_type": "code",
   "execution_count": 4,
   "metadata": {},
   "outputs": [
    {
     "data": {
      "text/plain": [
       "10×2 Array{Float64,2}:\n",
       "  0.407125    0.678542 \n",
       "  0.9723      1.6205   \n",
       "  0.701382    1.16897  \n",
       " -1.84695    -3.07826  \n",
       " -0.269164   -0.448607 \n",
       "  0.0558799   0.0931332\n",
       " -0.628131   -1.04689  \n",
       "  0.603151    1.00525  \n",
       "  0.238756    0.397927 \n",
       " -0.580595   -0.967659 "
      ]
     },
     "execution_count": 4,
     "metadata": {},
     "output_type": "execute_result"
    }
   ],
   "source": [
    "# test foo function\n",
    "c = zeros(10, 2)\n",
    "foo(c, z, 1, 2, 3.0, 5.0)\n",
    "c"
   ]
  },
  {
   "cell_type": "code",
   "execution_count": 5,
   "metadata": {},
   "outputs": [
    {
     "data": {
      "text/plain": [
       "10×2 Array{Float64,2}:\n",
       "  0.407125    0.678542 \n",
       "  0.9723      1.6205   \n",
       "  0.701382    1.16897  \n",
       " -1.84695    -3.07826  \n",
       " -0.269164   -0.448607 \n",
       "  0.0558799   0.0931332\n",
       " -0.628131   -1.04689  \n",
       "  0.603151    1.00525  \n",
       "  0.238756    0.397927 \n",
       " -0.580595   -0.967659 "
      ]
     },
     "execution_count": 5,
     "metadata": {},
     "output_type": "execute_result"
    }
   ],
   "source": [
    "# test bar function... should return same results as the above\n",
    "c = zeros(10, 2)\n",
    "bar(c, z, 1, 2, 3.0, 5.0)\n",
    "c"
   ]
  },
  {
   "cell_type": "markdown",
   "metadata": {},
   "source": [
    "#### Create a new function for benchmarking"
   ]
  },
  {
   "cell_type": "code",
   "execution_count": 6,
   "metadata": {},
   "outputs": [
    {
     "data": {
      "text/plain": [
       "fb (generic function with 1 method)"
      ]
     },
     "execution_count": 6,
     "metadata": {},
     "output_type": "execute_result"
    }
   ],
   "source": [
    "fb(g, z) = begin \n",
    "    c = zeros(10, 2)\n",
    "    g(c, z, 1, 2, 3.0, 5.0)\n",
    "    c\n",
    "end"
   ]
  },
  {
   "cell_type": "markdown",
   "metadata": {},
   "source": [
    "#### Start benchmarking"
   ]
  },
  {
   "cell_type": "code",
   "execution_count": 7,
   "metadata": {
    "collapsed": true
   },
   "outputs": [],
   "source": [
    "using BenchmarkTools"
   ]
  },
  {
   "cell_type": "code",
   "execution_count": 8,
   "metadata": {},
   "outputs": [],
   "source": [
    "# warm the system\n",
    "fb(foo, z);\n",
    "fb(bar, z);"
   ]
  },
  {
   "cell_type": "code",
   "execution_count": 9,
   "metadata": {},
   "outputs": [
    {
     "name": "stdout",
     "output_type": "stream",
     "text": [
      "  597.367 ns (16 allocations: 1.73 KiB)\n"
     ]
    },
    {
     "data": {
      "text/plain": [
       "10×2 Array{Float64,2}:\n",
       "  0.407125    0.678542 \n",
       "  0.9723      1.6205   \n",
       "  0.701382    1.16897  \n",
       " -1.84695    -3.07826  \n",
       " -0.269164   -0.448607 \n",
       "  0.0558799   0.0931332\n",
       " -0.628131   -1.04689  \n",
       "  0.603151    1.00525  \n",
       "  0.238756    0.397927 \n",
       " -0.580595   -0.967659 "
      ]
     },
     "execution_count": 9,
     "metadata": {},
     "output_type": "execute_result"
    }
   ],
   "source": [
    "@btime fb(foo, z)"
   ]
  },
  {
   "cell_type": "code",
   "execution_count": 10,
   "metadata": {},
   "outputs": [
    {
     "name": "stdout",
     "output_type": "stream",
     "text": [
      "  87.114 ns (1 allocation: 240 bytes)\n"
     ]
    },
    {
     "data": {
      "text/plain": [
       "10×2 Array{Float64,2}:\n",
       "  0.407125    0.678542 \n",
       "  0.9723      1.6205   \n",
       "  0.701382    1.16897  \n",
       " -1.84695    -3.07826  \n",
       " -0.269164   -0.448607 \n",
       "  0.0558799   0.0931332\n",
       " -0.628131   -1.04689  \n",
       "  0.603151    1.00525  \n",
       "  0.238756    0.397927 \n",
       " -0.580595   -0.967659 "
      ]
     },
     "execution_count": 10,
     "metadata": {},
     "output_type": "execute_result"
    }
   ],
   "source": [
    "@btime fb(bar, z)"
   ]
  },
  {
   "cell_type": "code",
   "execution_count": null,
   "metadata": {
    "collapsed": true
   },
   "outputs": [],
   "source": []
  }
 ],
 "metadata": {
  "kernelspec": {
   "display_name": "Julia 0.6.1",
   "language": "julia",
   "name": "julia-0.6"
  },
  "language_info": {
   "file_extension": ".jl",
   "mimetype": "application/julia",
   "name": "julia",
   "version": "0.6.2"
  }
 },
 "nbformat": 4,
 "nbformat_minor": 2
}
