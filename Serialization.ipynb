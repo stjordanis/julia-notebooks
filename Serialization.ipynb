{
 "cells": [
  {
   "cell_type": "markdown",
   "metadata": {},
   "source": [
    "# Julia Serialization\n",
    "\n",
    "This notebook demonstrates how to serialize Julia object onto disk and read it back."
   ]
  },
  {
   "cell_type": "code",
   "execution_count": 16,
   "metadata": {},
   "outputs": [
    {
     "data": {
      "text/plain": [
       "Foo(\"hello\", 1000000×3 DataFrames.DataFrame\n",
       "│ Row     │ a         │ b        │ c            │\n",
       "├─────────┼───────────┼──────────┼──────────────┤\n",
       "│ 1       │ 0.850625  │ 0.175667 │ hello1       │\n",
       "│ 2       │ 0.221706  │ 0.102505 │ hello2       │\n",
       "│ 3       │ 0.424956  │ 0.646976 │ hello3       │\n",
       "│ 4       │ 0.568419  │ 0.257395 │ hello4       │\n",
       "│ 5       │ 0.0966665 │ 0.712085 │ hello5       │\n",
       "│ 6       │ 0.689808  │ 0.108642 │ hello6       │\n",
       "│ 7       │ 0.813724  │ 0.565399 │ hello7       │\n",
       "│ 8       │ 0.998781  │ 0.877007 │ hello8       │\n",
       "│ 9       │ 0.636838  │ 0.452896 │ hello9       │\n",
       "│ 10      │ 0.582385  │ 0.145067 │ hello10      │\n",
       "│ 11      │ 0.179225  │ 0.583033 │ hello11      │\n",
       "⋮\n",
       "│ 999989  │ 0.428999  │ 0.816846 │ hello999989  │\n",
       "│ 999990  │ 0.44111   │ 0.774784 │ hello999990  │\n",
       "│ 999991  │ 0.732864  │ 0.516843 │ hello999991  │\n",
       "│ 999992  │ 0.180274  │ 0.887329 │ hello999992  │\n",
       "│ 999993  │ 0.81862   │ 0.317111 │ hello999993  │\n",
       "│ 999994  │ 0.270903  │ 0.302632 │ hello999994  │\n",
       "│ 999995  │ 0.627198  │ 0.400431 │ hello999995  │\n",
       "│ 999996  │ 0.634267  │ 0.441048 │ hello999996  │\n",
       "│ 999997  │ 0.402152  │ 0.732176 │ hello999997  │\n",
       "│ 999998  │ 0.635853  │ 0.548227 │ hello999998  │\n",
       "│ 999999  │ 0.521893  │ 0.463427 │ hello999999  │\n",
       "│ 1000000 │ 0.420428  │ 0.528149 │ hello1000000 │)"
      ]
     },
     "execution_count": 16,
     "metadata": {},
     "output_type": "execute_result"
    }
   ],
   "source": [
    "using DataFrames\n",
    "\n",
    "struct Foo\n",
    "    name\n",
    "    df\n",
    "end\n",
    "\n",
    "n = 1000000\n",
    "x = Foo(\"hello\", DataFrame(a = rand(n), b = rand(n), c = [\"hello$i\" for i in 1:n]))"
   ]
  },
  {
   "cell_type": "code",
   "execution_count": 17,
   "metadata": {},
   "outputs": [
    {
     "name": "stdout",
     "output_type": "stream",
     "text": [
      "  0.465449 seconds (757 allocations: 4.045 MiB, 3.46% gc time)\n"
     ]
    }
   ],
   "source": [
    "@time open(\"/tmp/test.jlser\", \"w\") do f\n",
    "    serialize(f, x)\n",
    "end"
   ]
  },
  {
   "cell_type": "code",
   "execution_count": 18,
   "metadata": {},
   "outputs": [
    {
     "name": "stdout",
     "output_type": "stream",
     "text": [
      "-rw-r--r--  1 tomkwong  wheel  28889016 Jul  8 00:35 /tmp/test.jlser\n"
     ]
    }
   ],
   "source": [
    ";ls -l /tmp/test.jlser"
   ]
  },
  {
   "cell_type": "code",
   "execution_count": 19,
   "metadata": {},
   "outputs": [
    {
     "name": "stdout",
     "output_type": "stream",
     "text": [
      "  0.694874 seconds (4.00 M allocations: 118.482 MiB, 47.47% gc time)\n"
     ]
    },
    {
     "data": {
      "text/plain": [
       "Foo(\"hello\", 1000000×3 DataFrames.DataFrame\n",
       "│ Row     │ a         │ b        │ c            │\n",
       "├─────────┼───────────┼──────────┼──────────────┤\n",
       "│ 1       │ 0.850625  │ 0.175667 │ hello1       │\n",
       "│ 2       │ 0.221706  │ 0.102505 │ hello2       │\n",
       "│ 3       │ 0.424956  │ 0.646976 │ hello3       │\n",
       "│ 4       │ 0.568419  │ 0.257395 │ hello4       │\n",
       "│ 5       │ 0.0966665 │ 0.712085 │ hello5       │\n",
       "│ 6       │ 0.689808  │ 0.108642 │ hello6       │\n",
       "│ 7       │ 0.813724  │ 0.565399 │ hello7       │\n",
       "│ 8       │ 0.998781  │ 0.877007 │ hello8       │\n",
       "│ 9       │ 0.636838  │ 0.452896 │ hello9       │\n",
       "│ 10      │ 0.582385  │ 0.145067 │ hello10      │\n",
       "│ 11      │ 0.179225  │ 0.583033 │ hello11      │\n",
       "⋮\n",
       "│ 999989  │ 0.428999  │ 0.816846 │ hello999989  │\n",
       "│ 999990  │ 0.44111   │ 0.774784 │ hello999990  │\n",
       "│ 999991  │ 0.732864  │ 0.516843 │ hello999991  │\n",
       "│ 999992  │ 0.180274  │ 0.887329 │ hello999992  │\n",
       "│ 999993  │ 0.81862   │ 0.317111 │ hello999993  │\n",
       "│ 999994  │ 0.270903  │ 0.302632 │ hello999994  │\n",
       "│ 999995  │ 0.627198  │ 0.400431 │ hello999995  │\n",
       "│ 999996  │ 0.634267  │ 0.441048 │ hello999996  │\n",
       "│ 999997  │ 0.402152  │ 0.732176 │ hello999997  │\n",
       "│ 999998  │ 0.635853  │ 0.548227 │ hello999998  │\n",
       "│ 999999  │ 0.521893  │ 0.463427 │ hello999999  │\n",
       "│ 1000000 │ 0.420428  │ 0.528149 │ hello1000000 │)"
      ]
     },
     "execution_count": 19,
     "metadata": {},
     "output_type": "execute_result"
    }
   ],
   "source": [
    "@time y = open(\"/tmp/test.jlser\") do f\n",
    "    deserialize(f)\n",
    "end"
   ]
  },
  {
   "cell_type": "code",
   "execution_count": 20,
   "metadata": {},
   "outputs": [
    {
     "data": {
      "text/plain": [
       "Foo(\"hello\", 1000000×3 DataFrames.DataFrame\n",
       "│ Row     │ a         │ b        │ c            │\n",
       "├─────────┼───────────┼──────────┼──────────────┤\n",
       "│ 1       │ 0.850625  │ 0.175667 │ hello1       │\n",
       "│ 2       │ 0.221706  │ 0.102505 │ hello2       │\n",
       "│ 3       │ 0.424956  │ 0.646976 │ hello3       │\n",
       "│ 4       │ 0.568419  │ 0.257395 │ hello4       │\n",
       "│ 5       │ 0.0966665 │ 0.712085 │ hello5       │\n",
       "│ 6       │ 0.689808  │ 0.108642 │ hello6       │\n",
       "│ 7       │ 0.813724  │ 0.565399 │ hello7       │\n",
       "│ 8       │ 0.998781  │ 0.877007 │ hello8       │\n",
       "│ 9       │ 0.636838  │ 0.452896 │ hello9       │\n",
       "│ 10      │ 0.582385  │ 0.145067 │ hello10      │\n",
       "│ 11      │ 0.179225  │ 0.583033 │ hello11      │\n",
       "⋮\n",
       "│ 999989  │ 0.428999  │ 0.816846 │ hello999989  │\n",
       "│ 999990  │ 0.44111   │ 0.774784 │ hello999990  │\n",
       "│ 999991  │ 0.732864  │ 0.516843 │ hello999991  │\n",
       "│ 999992  │ 0.180274  │ 0.887329 │ hello999992  │\n",
       "│ 999993  │ 0.81862   │ 0.317111 │ hello999993  │\n",
       "│ 999994  │ 0.270903  │ 0.302632 │ hello999994  │\n",
       "│ 999995  │ 0.627198  │ 0.400431 │ hello999995  │\n",
       "│ 999996  │ 0.634267  │ 0.441048 │ hello999996  │\n",
       "│ 999997  │ 0.402152  │ 0.732176 │ hello999997  │\n",
       "│ 999998  │ 0.635853  │ 0.548227 │ hello999998  │\n",
       "│ 999999  │ 0.521893  │ 0.463427 │ hello999999  │\n",
       "│ 1000000 │ 0.420428  │ 0.528149 │ hello1000000 │)"
      ]
     },
     "execution_count": 20,
     "metadata": {},
     "output_type": "execute_result"
    }
   ],
   "source": [
    "y"
   ]
  },
  {
   "cell_type": "code",
   "execution_count": null,
   "metadata": {},
   "outputs": [],
   "source": []
  }
 ],
 "metadata": {
  "kernelspec": {
   "display_name": "Julia 0.6.3",
   "language": "julia",
   "name": "julia-0.6"
  },
  "language_info": {
   "file_extension": ".jl",
   "mimetype": "application/julia",
   "name": "julia",
   "version": "0.6.3"
  }
 },
 "nbformat": 4,
 "nbformat_minor": 2
}
