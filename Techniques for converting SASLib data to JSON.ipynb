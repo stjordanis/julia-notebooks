{
 "cells": [
  {
   "cell_type": "code",
   "execution_count": 19,
   "metadata": {},
   "outputs": [
    {
     "data": {
      "text/plain": [
       "jsonify (generic function with 2 methods)"
      ]
     },
     "execution_count": 19,
     "metadata": {},
     "output_type": "execute_result"
    }
   ],
   "source": [
    "@inline isnum(v) = isbits(v) && typeof(v) != Date && typeof(v) != DateTime\n",
    "\n",
    "# Custom JSON generator\n",
    "function jsonify(sasobj, names, row) \n",
    "    s = IOBuffer()\n",
    "    i = 0\n",
    "    print(s,\"{\")\n",
    "    for k in names\n",
    "        i > 0 && print(s, \",\")\n",
    "        print(s, \"\\\"\", k, \"\\\":\")\n",
    "        v = sasobj[:data][k][row]\n",
    "        !isnum(v) && print(s, \"\\\"\")\n",
    "        print(s, v)\n",
    "        !isnum(v) && print(s, \"\\\"\")\n",
    "        i += 1\n",
    "    end\n",
    "    print(s,\"}\")\n",
    "    String(take!(s))\n",
    "end\n",
    "\n",
    "# Buffered version (non-allocating)\n",
    "function jsonify(s::IOBuffer, sasobj, names, row) \n",
    "    i = 0\n",
    "    print(s,\"{\")\n",
    "    for k in names\n",
    "        i > 0 && print(s, \",\")\n",
    "        print(s, \"\\\"\", k, \"\\\":\")\n",
    "        v = sasobj[:data][k][row]\n",
    "        !isnum(v) && print(s, \"\\\"\")\n",
    "        print(s, v)\n",
    "        !isnum(v) && print(s, \"\\\"\")\n",
    "        i += 1\n",
    "    end\n",
    "    print(s,\"}\")\n",
    "    String(take!(s))\n",
    "end"
   ]
  },
  {
   "cell_type": "code",
   "execution_count": 20,
   "metadata": {},
   "outputs": [
    {
     "data": {
      "text/plain": [
       "bar2 (generic function with 1 method)"
      ]
     },
     "execution_count": 20,
     "metadata": {},
     "output_type": "execute_result"
    }
   ],
   "source": [
    "using BenchmarkTools\n",
    "\n",
    "foo(x) = json(Dict([(k,x[:data][k][1]) for k in x[:column_symbols]]))\n",
    "bar(x) = jsonify(x, x[:column_symbols], 1)\n",
    "bar2(x, s) = jsonify(s, x, x[:column_symbols], 1)"
   ]
  },
  {
   "cell_type": "code",
   "execution_count": 21,
   "metadata": {},
   "outputs": [
    {
     "name": "stdout",
     "output_type": "stream",
     "text": [
      "Read /Users/tomkwong/iCloudDocs/Programming/Julia/SASLib/test/data_pandas/productsales.sas7bdat with size 1440 x 10 in 0.00747 seconds\n"
     ]
    },
    {
     "data": {
      "text/plain": [
       "Dict{Symbol,Any} with 19 entries:\n",
       "  :filename             => \"/Users/tomkwong/iCloudDocs/Programming/Julia/SASLib…\n",
       "  :page_length          => 8192\n",
       "  :file_encoding        => \"US-ASCII\"\n",
       "  :system_endianness    => :LittleEndian\n",
       "  :compression          => \"None\"\n",
       "  :ncols                => 10\n",
       "  :column_types         => Type[Float64, Float64, String, String, String, Strin…\n",
       "  :column_info          => Tuple{Int64,Symbol,Symbol,Type,DataType}[(1, :ACTUAL…\n",
       "  :data                 => Dict{Any,Any}(Pair{Any,Any}(:QUARTER, [1.0, 1.0, 1.0…\n",
       "  :perf_type_conversion => 0.000149216\n",
       "  :page_count           => 18\n",
       "  :column_names         => String[\"ACTUAL\", \"PREDICT\", \"COUNTRY\", \"REGION\", \"DI…\n",
       "  :column_symbols       => Symbol[:ACTUAL, :PREDICT, :COUNTRY, :REGION, :DIVISI…\n",
       "  :column_lengths       => [8, 8, 10, 10, 10, 10, 10, 8, 8, 8]\n",
       "  :file_endianness      => :LittleEndian\n",
       "  :process_id           => 1\n",
       "  :nrows                => 1440\n",
       "  :perf_read_data       => 0.00702284\n",
       "  :column_offsets       => [0, 8, 40, 50, 60, 70, 80, 16, 24, 32]"
      ]
     },
     "execution_count": 21,
     "metadata": {},
     "output_type": "execute_result"
    }
   ],
   "source": [
    "using SASLib \n",
    "x = readsas(\"/Users/tomkwong/iCloudDocs/Programming/Julia/SASLib/test/data_pandas/productsales.sas7bdat\")"
   ]
  },
  {
   "cell_type": "code",
   "execution_count": 22,
   "metadata": {},
   "outputs": [
    {
     "data": {
      "text/plain": [
       "\"{\\\"QUARTER\\\":1.0,\\\"YEAR\\\":1993.0,\\\"COUNTRY\\\":\\\"CANADA\\\",\\\"DIVISION\\\":\\\"EDUCATION\\\",\\\"REGION\\\":\\\"EAST\\\",\\\"MONTH\\\":\\\"1993-01-01\\\",\\\"PREDICT\\\":850.0,\\\"ACTUAL\\\":925.0,\\\"PRODTYPE\\\":\\\"FURNITURE\\\",\\\"PRODUCT\\\":\\\"SOFA\\\"}\""
      ]
     },
     "execution_count": 22,
     "metadata": {},
     "output_type": "execute_result"
    }
   ],
   "source": [
    "using JSON\n",
    "foo(x)"
   ]
  },
  {
   "cell_type": "code",
   "execution_count": 23,
   "metadata": {},
   "outputs": [
    {
     "data": {
      "text/plain": [
       "\"{\\\"ACTUAL\\\":925.0,\\\"PREDICT\\\":850.0,\\\"COUNTRY\\\":\\\"CANADA\\\",\\\"REGION\\\":\\\"EAST\\\",\\\"DIVISION\\\":\\\"EDUCATION\\\",\\\"PRODTYPE\\\":\\\"FURNITURE\\\",\\\"PRODUCT\\\":\\\"SOFA\\\",\\\"QUARTER\\\":1.0,\\\"YEAR\\\":1993.0,\\\"MONTH\\\":\\\"1993-01-01\\\"}\""
      ]
     },
     "execution_count": 23,
     "metadata": {},
     "output_type": "execute_result"
    }
   ],
   "source": [
    "bar(x)"
   ]
  },
  {
   "cell_type": "code",
   "execution_count": 24,
   "metadata": {},
   "outputs": [
    {
     "data": {
      "text/plain": [
       "\"{\\\"ACTUAL\\\":925.0,\\\"PREDICT\\\":850.0,\\\"COUNTRY\\\":\\\"CANADA\\\",\\\"REGION\\\":\\\"EAST\\\",\\\"DIVISION\\\":\\\"EDUCATION\\\",\\\"PRODTYPE\\\":\\\"FURNITURE\\\",\\\"PRODUCT\\\":\\\"SOFA\\\",\\\"QUARTER\\\":1.0,\\\"YEAR\\\":1993.0,\\\"MONTH\\\":\\\"1993-01-01\\\"}\""
      ]
     },
     "execution_count": 24,
     "metadata": {},
     "output_type": "execute_result"
    }
   ],
   "source": [
    "buf = IOBuffer()\n",
    "bar2(x, buf)"
   ]
  },
  {
   "cell_type": "code",
   "execution_count": 25,
   "metadata": {},
   "outputs": [
    {
     "data": {
      "text/plain": [
       "BenchmarkTools.Trial: \n",
       "  memory estimate:  3.55 KiB\n",
       "  allocs estimate:  81\n",
       "  --------------\n",
       "  minimum time:     32.952 μs (0.00% GC)\n",
       "  median time:      33.991 μs (0.00% GC)\n",
       "  mean time:        35.332 μs (0.91% GC)\n",
       "  maximum time:     3.343 ms (96.62% GC)\n",
       "  --------------\n",
       "  samples:          10000\n",
       "  evals/sample:     1"
      ]
     },
     "execution_count": 25,
     "metadata": {},
     "output_type": "execute_result"
    }
   ],
   "source": [
    "@benchmark foo($x)"
   ]
  },
  {
   "cell_type": "code",
   "execution_count": 26,
   "metadata": {},
   "outputs": [
    {
     "data": {
      "text/plain": [
       "BenchmarkTools.Trial: \n",
       "  memory estimate:  1.20 KiB\n",
       "  allocs estimate:  18\n",
       "  --------------\n",
       "  minimum time:     7.934 μs (0.00% GC)\n",
       "  median time:      8.066 μs (0.00% GC)\n",
       "  mean time:        8.373 μs (1.57% GC)\n",
       "  maximum time:     715.085 μs (95.48% GC)\n",
       "  --------------\n",
       "  samples:          10000\n",
       "  evals/sample:     4"
      ]
     },
     "execution_count": 26,
     "metadata": {},
     "output_type": "execute_result"
    }
   ],
   "source": [
    "@benchmark bar($x)"
   ]
  },
  {
   "cell_type": "code",
   "execution_count": 27,
   "metadata": {},
   "outputs": [
    {
     "data": {
      "text/plain": [
       "BenchmarkTools.Trial: \n",
       "  memory estimate:  1.19 KiB\n",
       "  allocs estimate:  19\n",
       "  --------------\n",
       "  minimum time:     8.182 μs (0.00% GC)\n",
       "  median time:      8.321 μs (0.00% GC)\n",
       "  mean time:        8.458 μs (1.10% GC)\n",
       "  maximum time:     969.681 μs (96.33% GC)\n",
       "  --------------\n",
       "  samples:          10000\n",
       "  evals/sample:     3"
      ]
     },
     "execution_count": 27,
     "metadata": {},
     "output_type": "execute_result"
    }
   ],
   "source": [
    "@benchmark bar2($x, $buf)"
   ]
  },
  {
   "cell_type": "code",
   "execution_count": null,
   "metadata": {
    "collapsed": true
   },
   "outputs": [],
   "source": []
  }
 ],
 "metadata": {
  "kernelspec": {
   "display_name": "Julia 0.6.2",
   "language": "julia",
   "name": "julia-0.6"
  },
  "language_info": {
   "file_extension": ".jl",
   "mimetype": "application/julia",
   "name": "julia",
   "version": "0.6.2"
  }
 },
 "nbformat": 4,
 "nbformat_minor": 2
}
