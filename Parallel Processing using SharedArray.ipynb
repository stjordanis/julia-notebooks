{
 "cells": [
  {
   "cell_type": "markdown",
   "metadata": {},
   "source": [
    "# Prepare two worker processes"
   ]
  },
  {
   "cell_type": "code",
   "execution_count": 1,
   "metadata": {},
   "outputs": [
    {
     "data": {
      "text/plain": [
       "2-element Array{Int64,1}:\n",
       " 2\n",
       " 3"
      ]
     },
     "execution_count": 1,
     "metadata": {},
     "output_type": "execute_result"
    }
   ],
   "source": [
    "addprocs(2)"
   ]
  },
  {
   "cell_type": "code",
   "execution_count": 2,
   "metadata": {},
   "outputs": [
    {
     "data": {
      "text/plain": [
       "2-element Array{Int64,1}:\n",
       " 2\n",
       " 3"
      ]
     },
     "execution_count": 2,
     "metadata": {},
     "output_type": "execute_result"
    }
   ],
   "source": [
    "workers()"
   ]
  },
  {
   "cell_type": "markdown",
   "metadata": {},
   "source": [
    "# Create SharedArray objects\n",
    "\n",
    "- `SA` holds a 2D shared array with random numbers\n",
    "- `SR` holds a 2-element shared array that stores summarized computation results"
   ]
  },
  {
   "cell_type": "code",
   "execution_count": 4,
   "metadata": {},
   "outputs": [
    {
     "data": {
      "text/plain": [
       "6×2 SharedArray{Float64,2}:\n",
       " 0.80396   0.219052 \n",
       " 0.463357  0.522406 \n",
       " 0.587913  0.0413235\n",
       " 0.891794  0.110544 \n",
       " 0.154502  0.292556 \n",
       " 0.867073  0.411577 "
      ]
     },
     "execution_count": 4,
     "metadata": {},
     "output_type": "execute_result"
    }
   ],
   "source": [
    "SA = convert(SharedArray{Float64, 2}, rand(6,2))"
   ]
  },
  {
   "cell_type": "code",
   "execution_count": 5,
   "metadata": {},
   "outputs": [
    {
     "data": {
      "text/plain": [
       "2-element SharedArray{Float64,1}:\n",
       " 0.0\n",
       " 0.0"
      ]
     },
     "execution_count": 5,
     "metadata": {},
     "output_type": "execute_result"
    }
   ],
   "source": [
    "SR = SharedArray{Float64,1}(2)"
   ]
  },
  {
   "cell_type": "markdown",
   "metadata": {},
   "source": [
    "# Quick Tests about distributed computation"
   ]
  },
  {
   "cell_type": "code",
   "execution_count": 12,
   "metadata": {},
   "outputs": [
    {
     "data": {
      "text/plain": [
       "2-element SharedArray{Float64,1}:\n",
       " 0.0\n",
       " 0.0"
      ]
     },
     "metadata": {},
     "output_type": "display_data"
    }
   ],
   "source": [
    "# using worker 2, compute and store results for first column\n",
    "# it returns a future object\n",
    "SR[:] = zeros(2)\n",
    "display(SR)\n"
   ]
  },
  {
   "cell_type": "code",
   "execution_count": 13,
   "metadata": {},
   "outputs": [
    {
     "data": {
      "text/plain": [
       "Future(2, 1, 22, Nullable{Any}())"
      ]
     },
     "execution_count": 13,
     "metadata": {},
     "output_type": "execute_result"
    }
   ],
   "source": [
    "@spawnat 2 SR[1] = sum(SA[:,1])"
   ]
  },
  {
   "cell_type": "code",
   "execution_count": 14,
   "metadata": {},
   "outputs": [
    {
     "data": {
      "text/plain": [
       "2-element SharedArray{Float64,1}:\n",
       " 3.7686\n",
       " 0.0   "
      ]
     },
     "execution_count": 14,
     "metadata": {},
     "output_type": "execute_result"
    }
   ],
   "source": [
    "# examine SR.  Hopefully it's already filled in by worker 2.\n",
    "SR"
   ]
  },
  {
   "cell_type": "code",
   "execution_count": 15,
   "metadata": {},
   "outputs": [
    {
     "data": {
      "text/plain": [
       "Future(3, 1, 23, Nullable{Any}())"
      ]
     },
     "execution_count": 15,
     "metadata": {},
     "output_type": "execute_result"
    }
   ],
   "source": [
    "# do the same thing with worker 3.  Again, don't wait for it.\n",
    "@spawnat 3 SR[2] = sum(SA[:,2])"
   ]
  },
  {
   "cell_type": "code",
   "execution_count": 16,
   "metadata": {},
   "outputs": [
    {
     "data": {
      "text/plain": [
       "2-element SharedArray{Float64,1}:\n",
       " 3.7686 \n",
       " 1.59746"
      ]
     },
     "execution_count": 16,
     "metadata": {},
     "output_type": "execute_result"
    }
   ],
   "source": [
    "# hooray!\n",
    "SR"
   ]
  },
  {
   "cell_type": "markdown",
   "metadata": {},
   "source": [
    "# Distributed vs Single Process Computation\n",
    "\n",
    "Each worker will compute the sum of random numbers and accumulate the same value in a for-loop 100mm times.  Ther result is stored in the SR array.\n",
    "\n",
    "We can see that the distributed computing version is about 2x as fast."
   ]
  },
  {
   "cell_type": "code",
   "execution_count": 17,
   "metadata": {},
   "outputs": [
    {
     "data": {
      "text/plain": [
       "2-element SharedArray{Float64,1}:\n",
       " 0.0\n",
       " 0.0"
      ]
     },
     "metadata": {},
     "output_type": "display_data"
    },
    {
     "data": {
      "text/plain": [
       "2-element SharedArray{Float64,1}:\n",
       " 3.7686e8 \n",
       " 1.59746e8"
      ]
     },
     "metadata": {},
     "output_type": "display_data"
    },
    {
     "name": "stdout",
     "output_type": "stream",
     "text": [
      " 17.341014 seconds (41.24 k allocations: 2.131 MiB, 0.40% gc time)\n",
      "elapsed time: 17.812878185 seconds\n"
     ]
    },
    {
     "data": {
      "text/plain": [
       "17.812878185"
      ]
     },
     "execution_count": 17,
     "metadata": {},
     "output_type": "execute_result"
    }
   ],
   "source": [
    "# distributed version\n",
    "SR[1:2] = 0.0\n",
    "display(SR)\n",
    "tic()\n",
    "f1 = @spawnat 2 SR[1] = begin x = 0.0; for i in 1:100_000_000 x += sum(SA[:,1]); end; x; end;\n",
    "f2 = @spawnat 3 SR[2] = begin x = 0.0; for i in 1:100_000_000 x += sum(SA[:,2]); end; x; end;\n",
    "@time wait.([f1, f2])\n",
    "display(SR)\n",
    "toc()"
   ]
  },
  {
   "cell_type": "code",
   "execution_count": 18,
   "metadata": {},
   "outputs": [
    {
     "data": {
      "text/plain": [
       "2-element SharedArray{Float64,1}:\n",
       " 0.0\n",
       " 0.0"
      ]
     },
     "metadata": {},
     "output_type": "display_data"
    },
    {
     "data": {
      "text/plain": [
       "2-element SharedArray{Float64,1}:\n",
       " 3.7686e8 \n",
       " 1.59746e8"
      ]
     },
     "metadata": {},
     "output_type": "display_data"
    },
    {
     "name": "stdout",
     "output_type": "stream",
     "text": [
      "elapsed time: 33.746553001 seconds\n"
     ]
    },
    {
     "data": {
      "text/plain": [
       "33.746553001"
      ]
     },
     "execution_count": 18,
     "metadata": {},
     "output_type": "execute_result"
    }
   ],
   "source": [
    "# single-process version\n",
    "SR[1:2] = 0.0\n",
    "display(SR)\n",
    "tic()\n",
    "SR[1] = begin x = 0.0; for i in 1:100_000_000 x += sum(SA[:,1]); end; x; end;\n",
    "SR[2] = begin x = 0.0; for i in 1:100_000_000 x += sum(SA[:,2]); end; x; end;\n",
    "display(SR)\n",
    "toc()"
   ]
  },
  {
   "cell_type": "markdown",
   "metadata": {},
   "source": [
    "# Clean up\n",
    "\n",
    "Shutting down the compute worker nodes."
   ]
  },
  {
   "cell_type": "code",
   "execution_count": 19,
   "metadata": {},
   "outputs": [
    {
     "data": {
      "text/plain": [
       "Task (done) @0x0000000119976410"
      ]
     },
     "execution_count": 19,
     "metadata": {},
     "output_type": "execute_result"
    }
   ],
   "source": [
    "rmprocs(workers())"
   ]
  },
  {
   "cell_type": "code",
   "execution_count": 20,
   "metadata": {},
   "outputs": [
    {
     "data": {
      "text/plain": [
       "1-element Array{Int64,1}:\n",
       " 1"
      ]
     },
     "execution_count": 20,
     "metadata": {},
     "output_type": "execute_result"
    }
   ],
   "source": [
    "procs()"
   ]
  },
  {
   "cell_type": "code",
   "execution_count": null,
   "metadata": {
    "collapsed": true
   },
   "outputs": [],
   "source": []
  }
 ],
 "metadata": {
  "kernelspec": {
   "display_name": "Julia 0.6.1",
   "language": "julia",
   "name": "julia-0.6"
  },
  "language_info": {
   "file_extension": ".jl",
   "mimetype": "application/julia",
   "name": "julia",
   "version": "0.6.2"
  }
 },
 "nbformat": 4,
 "nbformat_minor": 2
}
