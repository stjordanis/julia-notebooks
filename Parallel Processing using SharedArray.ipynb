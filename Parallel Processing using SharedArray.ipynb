{
 "cells": [
  {
   "cell_type": "markdown",
   "metadata": {},
   "source": [
    "# Summary\n",
    "\n",
    "This notebook demonstrates how to create a SharedArray (SA) of input data that is accessible by remote processes.  In addition, another SharedArray (SR) is created by the master process for store results from remote processes.\n",
    "\n",
    "## Prepare two worker processes"
   ]
  },
  {
   "cell_type": "code",
   "execution_count": 1,
   "metadata": {},
   "outputs": [
    {
     "data": {
      "text/plain": [
       "2-element Array{Int64,1}:\n",
       " 2\n",
       " 3"
      ]
     },
     "execution_count": 1,
     "metadata": {},
     "output_type": "execute_result"
    }
   ],
   "source": [
    "addprocs(2)"
   ]
  },
  {
   "cell_type": "code",
   "execution_count": 2,
   "metadata": {},
   "outputs": [
    {
     "data": {
      "text/plain": [
       "2-element Array{Int64,1}:\n",
       " 2\n",
       " 3"
      ]
     },
     "execution_count": 2,
     "metadata": {},
     "output_type": "execute_result"
    }
   ],
   "source": [
    "workers()"
   ]
  },
  {
   "cell_type": "markdown",
   "metadata": {},
   "source": [
    "## Create SharedArray objects\n",
    "\n",
    "- `SA` holds a 2D shared array with random numbers\n",
    "- `SR` holds a 2-element shared array that stores summarized computation results"
   ]
  },
  {
   "cell_type": "code",
   "execution_count": 3,
   "metadata": {},
   "outputs": [
    {
     "data": {
      "text/plain": [
       "6×2 SharedArray{Float64,2}:\n",
       " 0.297855  0.910513 \n",
       " 0.719219  0.690423 \n",
       " 0.104137  0.0844761\n",
       " 0.979466  0.242356 \n",
       " 0.321191  0.370191 \n",
       " 0.370706  0.826142 "
      ]
     },
     "execution_count": 3,
     "metadata": {},
     "output_type": "execute_result"
    }
   ],
   "source": [
    "SA = convert(SharedArray{Float64, 2}, rand(6,2))"
   ]
  },
  {
   "cell_type": "code",
   "execution_count": 4,
   "metadata": {},
   "outputs": [
    {
     "data": {
      "text/plain": [
       "2-element SharedArray{Float64,1}:\n",
       " 0.0\n",
       " 0.0"
      ]
     },
     "execution_count": 4,
     "metadata": {},
     "output_type": "execute_result"
    }
   ],
   "source": [
    "SR = SharedArray{Float64,1}(2)"
   ]
  },
  {
   "cell_type": "markdown",
   "metadata": {},
   "source": [
    "### Visibility and Data Transfer\n",
    "\n",
    "Julia does not make the global variables, even for SharedArray's, visible in the worker processes until it is used. The following sequence of event demonstrates that.\n",
    "\n",
    "Observation - When `@spawnat` macro references a global variable, the worker process suddenly becomes aware of such variable as well.  The `identity` function merely acts as a trigger.\n",
    "\n",
    "Why do we want to make them visible?  It's convenient when a function needs to reference it without accepting it as an argument (which seems to kill performance for SharedArray's)... (to be confirmed.)"
   ]
  },
  {
   "cell_type": "code",
   "execution_count": 8,
   "metadata": {},
   "outputs": [
    {
     "name": "stdout",
     "output_type": "stream",
     "text": [
      "\tFrom worker 2:\t                          Base               Module\n",
      "\tFrom worker 2:\t                          Core               Module\n",
      "\tFrom worker 2:\t                          Main               Module\n"
     ]
    }
   ],
   "source": [
    "fetch(@spawnat 2 whos())"
   ]
  },
  {
   "cell_type": "code",
   "execution_count": 9,
   "metadata": {},
   "outputs": [
    {
     "name": "stdout",
     "output_type": "stream",
     "text": [
      "\tFrom worker 3:\t                          Base               Module\n",
      "\tFrom worker 3:\t                          Core               Module\n",
      "\tFrom worker 3:\t                          Main               Module\n"
     ]
    }
   ],
   "source": [
    "fetch(@spawnat 3 whos())"
   ]
  },
  {
   "cell_type": "code",
   "execution_count": 12,
   "metadata": {},
   "outputs": [
    {
     "name": "stdout",
     "output_type": "stream",
     "text": [
      "                            SA    381 bytes  6×2 SharedArray{Float64,2}\n",
      "                            SR    293 bytes  2-element SharedArray{Float64,1}\n"
     ]
    }
   ],
   "source": [
    "whos(r\"S[AR]$\")"
   ]
  },
  {
   "cell_type": "code",
   "execution_count": 13,
   "metadata": {},
   "outputs": [
    {
     "data": {
      "text/plain": [
       "false"
      ]
     },
     "execution_count": 13,
     "metadata": {},
     "output_type": "execute_result"
    }
   ],
   "source": [
    "fetch(@spawnat 2 isdefined(:SA))"
   ]
  },
  {
   "cell_type": "code",
   "execution_count": 14,
   "metadata": {},
   "outputs": [
    {
     "data": {
      "text/plain": [
       "6×2 SharedArray{Float64,2}:\n",
       " 0.297855  0.910513 \n",
       " 0.719219  0.690423 \n",
       " 0.104137  0.0844761\n",
       " 0.979466  0.242356 \n",
       " 0.321191  0.370191 \n",
       " 0.370706  0.826142 "
      ]
     },
     "execution_count": 14,
     "metadata": {},
     "output_type": "execute_result"
    }
   ],
   "source": [
    "fetch(@spawnat 2 identity(SA))"
   ]
  },
  {
   "cell_type": "code",
   "execution_count": 15,
   "metadata": {},
   "outputs": [
    {
     "data": {
      "text/plain": [
       "true"
      ]
     },
     "execution_count": 15,
     "metadata": {},
     "output_type": "execute_result"
    }
   ],
   "source": [
    "fetch(@spawnat 2 isdefined(:SA))"
   ]
  },
  {
   "cell_type": "code",
   "execution_count": 16,
   "metadata": {},
   "outputs": [
    {
     "name": "stdout",
     "output_type": "stream",
     "text": [
      "\tFrom worker 2:\t                          Base               Module\n",
      "\tFrom worker 2:\t                          Core               Module\n",
      "\tFrom worker 2:\t                          Main               Module\n",
      "\tFrom worker 2:\t                            SA    397 bytes  6×2 SharedArray{Float64,2}\n"
     ]
    }
   ],
   "source": [
    "fetch(@spawnat 2 whos())"
   ]
  },
  {
   "cell_type": "code",
   "execution_count": 17,
   "metadata": {},
   "outputs": [
    {
     "name": "stdout",
     "output_type": "stream",
     "text": [
      "\tFrom worker 3:\t                          Base               Module\n",
      "\tFrom worker 3:\t                          Core               Module\n",
      "\tFrom worker 3:\t                          Main               Module\n"
     ]
    }
   ],
   "source": [
    "fetch(@spawnat 3 whos())"
   ]
  },
  {
   "cell_type": "code",
   "execution_count": 18,
   "metadata": {},
   "outputs": [
    {
     "data": {
      "text/plain": [
       "Future(3, 1, 34, Nullable{Any}())"
      ]
     },
     "execution_count": 18,
     "metadata": {},
     "output_type": "execute_result"
    }
   ],
   "source": [
    "@spawnat 3 identity(SA)"
   ]
  },
  {
   "cell_type": "code",
   "execution_count": 19,
   "metadata": {},
   "outputs": [
    {
     "name": "stdout",
     "output_type": "stream",
     "text": [
      "\tFrom worker 3:\t                          Base               Module\n",
      "\tFrom worker 3:\t                          Core               Module\n",
      "\tFrom worker 3:\t                          Main               Module\n",
      "\tFrom worker 3:\t                            SA    397 bytes  6×2 SharedArray{Float64,2}\n"
     ]
    }
   ],
   "source": [
    "fetch(@spawnat 3 whos())"
   ]
  },
  {
   "cell_type": "code",
   "execution_count": 20,
   "metadata": {
    "collapsed": true
   },
   "outputs": [],
   "source": [
    "@everywhere function foo()\n",
    "    global SA\n",
    "    sum(SA[:,1])\n",
    "end"
   ]
  },
  {
   "cell_type": "code",
   "execution_count": 21,
   "metadata": {},
   "outputs": [
    {
     "data": {
      "text/plain": [
       "2.7925725961535957"
      ]
     },
     "execution_count": 21,
     "metadata": {},
     "output_type": "execute_result"
    }
   ],
   "source": [
    "fetch(@spawnat 2 foo())"
   ]
  },
  {
   "cell_type": "code",
   "execution_count": 22,
   "metadata": {
    "collapsed": true
   },
   "outputs": [],
   "source": [
    "@everywhere function bar()\n",
    "    global SR\n",
    "    SR[1]\n",
    "end"
   ]
  },
  {
   "cell_type": "code",
   "execution_count": 23,
   "metadata": {},
   "outputs": [
    {
     "ename": "LoadError",
     "evalue": "\u001b[91mOn worker 2:\n\u001b[91mUndefVarError: SR not defined\u001b[39m\n#35 at ./distributed/macros.jl:25\n#103 at ./distributed/process_messages.jl:264 [inlined]\nrun_work_thunk at ./distributed/process_messages.jl:56\nrun_work_thunk at ./distributed/process_messages.jl:65 [inlined]\n#96 at ./event.jl:73\u001b[39m",
     "output_type": "error",
     "traceback": [
      "\u001b[91mOn worker 2:\n\u001b[91mUndefVarError: SR not defined\u001b[39m\n#35 at ./distributed/macros.jl:25\n#103 at ./distributed/process_messages.jl:264 [inlined]\nrun_work_thunk at ./distributed/process_messages.jl:56\nrun_work_thunk at ./distributed/process_messages.jl:65 [inlined]\n#96 at ./event.jl:73\u001b[39m",
      "",
      "Stacktrace:",
      " [1] \u001b[1m#remotecall_fetch#141\u001b[22m\u001b[22m\u001b[1m(\u001b[22m\u001b[22m::Array{Any,1}, ::Function, ::Function, ::Base.Distributed.Worker, ::Base.Distributed.RRID, ::Vararg{Any,N} where N\u001b[1m)\u001b[22m\u001b[22m at \u001b[1m./distributed/remotecall.jl:354\u001b[22m\u001b[22m",
      " [2] \u001b[1mremotecall_fetch\u001b[22m\u001b[22m\u001b[1m(\u001b[22m\u001b[22m::Function, ::Base.Distributed.Worker, ::Base.Distributed.RRID, ::Vararg{Any,N} where N\u001b[1m)\u001b[22m\u001b[22m at \u001b[1m./distributed/remotecall.jl:346\u001b[22m\u001b[22m",
      " [3] \u001b[1m#remotecall_fetch#144\u001b[22m\u001b[22m\u001b[1m(\u001b[22m\u001b[22m::Array{Any,1}, ::Function, ::Function, ::Int64, ::Base.Distributed.RRID, ::Vararg{Any,N} where N\u001b[1m)\u001b[22m\u001b[22m at \u001b[1m./distributed/remotecall.jl:367\u001b[22m\u001b[22m",
      " [4] \u001b[1mcall_on_owner\u001b[22m\u001b[22m\u001b[1m(\u001b[22m\u001b[22m::Function, ::Future\u001b[1m)\u001b[22m\u001b[22m at \u001b[1m./distributed/remotecall.jl:440\u001b[22m\u001b[22m",
      " [5] \u001b[1mfetch\u001b[22m\u001b[22m\u001b[1m(\u001b[22m\u001b[22m::Future\u001b[1m)\u001b[22m\u001b[22m at \u001b[1m./distributed/remotecall.jl:460\u001b[22m\u001b[22m",
      " [6] \u001b[1minclude_string\u001b[22m\u001b[22m\u001b[1m(\u001b[22m\u001b[22m::String, ::String\u001b[1m)\u001b[22m\u001b[22m at \u001b[1m./loading.jl:522\u001b[22m\u001b[22m"
     ]
    }
   ],
   "source": [
    "fetch(@spawnat 2 bar())"
   ]
  },
  {
   "cell_type": "markdown",
   "metadata": {},
   "source": [
    "## Quick Tests about distributed computation"
   ]
  },
  {
   "cell_type": "code",
   "execution_count": 24,
   "metadata": {},
   "outputs": [
    {
     "data": {
      "text/plain": [
       "Future(2, 1, 45, Nullable{Any}())"
      ]
     },
     "execution_count": 24,
     "metadata": {},
     "output_type": "execute_result"
    }
   ],
   "source": [
    "# using worker 2, compute and store results for first column\n",
    "# it returns a future object\n",
    "@spawnat 2 SR[1] = sum(SA[:,1])"
   ]
  },
  {
   "cell_type": "code",
   "execution_count": 25,
   "metadata": {},
   "outputs": [
    {
     "data": {
      "text/plain": [
       "2-element SharedArray{Float64,1}:\n",
       " 2.79257\n",
       " 0.0    "
      ]
     },
     "execution_count": 25,
     "metadata": {},
     "output_type": "execute_result"
    }
   ],
   "source": [
    "# examine SR.  Hopefully it's already filled in by worker 2.\n",
    "SR"
   ]
  },
  {
   "cell_type": "code",
   "execution_count": 26,
   "metadata": {},
   "outputs": [
    {
     "data": {
      "text/plain": [
       "Future(3, 1, 46, Nullable{Any}())"
      ]
     },
     "execution_count": 26,
     "metadata": {},
     "output_type": "execute_result"
    }
   ],
   "source": [
    "# do the same thing with worker 3.  Again, don't wait for it.\n",
    "@spawnat 3 SR[2] = sum(SA[:,2])"
   ]
  },
  {
   "cell_type": "code",
   "execution_count": 27,
   "metadata": {},
   "outputs": [
    {
     "data": {
      "text/plain": [
       "2-element SharedArray{Float64,1}:\n",
       " 2.79257\n",
       " 3.1241 "
      ]
     },
     "execution_count": 27,
     "metadata": {},
     "output_type": "execute_result"
    }
   ],
   "source": [
    "# hooray!\n",
    "SR"
   ]
  },
  {
   "cell_type": "markdown",
   "metadata": {},
   "source": [
    "## Distributed vs Single Process Computation\n",
    "\n",
    "Each worker will compute the sum of random numbers and accumulate the same value in a for-loop 100mm times.  Ther result is stored in the SR array.\n",
    "\n",
    "We can see that the distributed computing version is about 2x as fast."
   ]
  },
  {
   "cell_type": "code",
   "execution_count": 28,
   "metadata": {},
   "outputs": [
    {
     "data": {
      "text/plain": [
       "2-element SharedArray{Float64,1}:\n",
       " 0.0\n",
       " 0.0"
      ]
     },
     "metadata": {},
     "output_type": "display_data"
    },
    {
     "data": {
      "text/plain": [
       "2-element SharedArray{Float64,1}:\n",
       " 2.79257e8\n",
       " 3.1241e8 "
      ]
     },
     "metadata": {},
     "output_type": "display_data"
    },
    {
     "name": "stdout",
     "output_type": "stream",
     "text": [
      " 21.165758 seconds (703.90 k allocations: 37.524 MiB, 0.57% gc time)\n",
      "elapsed time: 21.593016871 seconds\n"
     ]
    },
    {
     "data": {
      "text/plain": [
       "21.593016871"
      ]
     },
     "execution_count": 28,
     "metadata": {},
     "output_type": "execute_result"
    }
   ],
   "source": [
    "# distributed version\n",
    "SR[1:2] = 0.0\n",
    "display(SR)\n",
    "tic()\n",
    "f1 = @spawnat 2 SR[1] = begin x = 0.0; for i in 1:100_000_000 x += sum(SA[:,1]); end; x; end;\n",
    "f2 = @spawnat 3 SR[2] = begin x = 0.0; for i in 1:100_000_000 x += sum(SA[:,2]); end; x; end;\n",
    "@time wait.([f1, f2])\n",
    "display(SR)\n",
    "toc()"
   ]
  },
  {
   "cell_type": "code",
   "execution_count": 29,
   "metadata": {},
   "outputs": [
    {
     "data": {
      "text/plain": [
       "2-element SharedArray{Float64,1}:\n",
       " 0.0\n",
       " 0.0"
      ]
     },
     "metadata": {},
     "output_type": "display_data"
    },
    {
     "data": {
      "text/plain": [
       "2-element SharedArray{Float64,1}:\n",
       " 2.79257e8\n",
       " 3.1241e8 "
      ]
     },
     "metadata": {},
     "output_type": "display_data"
    },
    {
     "name": "stdout",
     "output_type": "stream",
     "text": [
      "elapsed time: 37.126015899 seconds\n"
     ]
    },
    {
     "data": {
      "text/plain": [
       "37.126015899"
      ]
     },
     "execution_count": 29,
     "metadata": {},
     "output_type": "execute_result"
    }
   ],
   "source": [
    "# single-process version\n",
    "SR[1:2] = 0.0\n",
    "display(SR)\n",
    "tic()\n",
    "SR[1] = begin x = 0.0; for i in 1:100_000_000 x += sum(SA[:,1]); end; x; end;\n",
    "SR[2] = begin x = 0.0; for i in 1:100_000_000 x += sum(SA[:,2]); end; x; end;\n",
    "display(SR)\n",
    "toc()"
   ]
  },
  {
   "cell_type": "markdown",
   "metadata": {},
   "source": [
    "## Clean up\n",
    "\n",
    "Shutting down the compute worker nodes."
   ]
  },
  {
   "cell_type": "code",
   "execution_count": 30,
   "metadata": {},
   "outputs": [
    {
     "data": {
      "text/plain": [
       "Task (done) @0x000000012130a890"
      ]
     },
     "execution_count": 30,
     "metadata": {},
     "output_type": "execute_result"
    }
   ],
   "source": [
    "rmprocs(workers())"
   ]
  },
  {
   "cell_type": "code",
   "execution_count": 31,
   "metadata": {},
   "outputs": [
    {
     "data": {
      "text/plain": [
       "1-element Array{Int64,1}:\n",
       " 1"
      ]
     },
     "execution_count": 31,
     "metadata": {},
     "output_type": "execute_result"
    }
   ],
   "source": [
    "procs()"
   ]
  },
  {
   "cell_type": "code",
   "execution_count": null,
   "metadata": {
    "collapsed": true
   },
   "outputs": [],
   "source": []
  }
 ],
 "metadata": {
  "kernelspec": {
   "display_name": "Julia 0.6.2",
   "language": "julia",
   "name": "julia-0.6"
  },
  "language_info": {
   "file_extension": ".jl",
   "mimetype": "application/julia",
   "name": "julia",
   "version": "0.6.2"
  }
 },
 "nbformat": 4,
 "nbformat_minor": 2
}
