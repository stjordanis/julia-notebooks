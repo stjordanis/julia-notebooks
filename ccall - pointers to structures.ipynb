{
 "cells": [
  {
   "cell_type": "code",
   "execution_count": 1,
   "metadata": {},
   "outputs": [
    {
     "data": {
      "text/plain": [
       "\"/tmp/test.dylib\""
      ]
     },
     "execution_count": 1,
     "metadata": {},
     "output_type": "execute_result"
    }
   ],
   "source": [
    "const output = \"/tmp/test.dylib\""
   ]
  },
  {
   "cell_type": "code",
   "execution_count": 2,
   "metadata": {
    "collapsed": true
   },
   "outputs": [],
   "source": [
    "cprog = \"\"\"\n",
    "#include <stdlib.h>\n",
    "\n",
    "typedef struct \n",
    "{\n",
    "    int a;\n",
    "    double b;\n",
    "} FOO, *FOOP;\n",
    "\n",
    "FOO test1() {\n",
    "    FOO x;\n",
    "    x.a = 1;\n",
    "    x.b = 2.0;\n",
    "    return x;\n",
    "}\n",
    "\n",
    "FOO test2(FOO x) {\n",
    "    return x;\n",
    "}\n",
    "\n",
    "FOO test3(FOOP xp) {\n",
    "    FOO y;\n",
    "    y.a = xp->a;\n",
    "    y.b = xp->b;\n",
    "    return y;\n",
    "}\n",
    "\n",
    "FOOP test4(FOOP xp) {\n",
    "    FOOP yp = (FOOP) malloc(sizeof(FOO));\n",
    "    yp->a = xp->a;\n",
    "    yp->b = xp-> b;\n",
    "    return yp;\n",
    "}\n",
    "\"\"\";"
   ]
  },
  {
   "cell_type": "code",
   "execution_count": 3,
   "metadata": {},
   "outputs": [],
   "source": [
    "open(`gcc -fPIC -O3 -xc -shared -o $output -`, \"w\") do f\n",
    "     print(f, cprog)\n",
    "end"
   ]
  },
  {
   "cell_type": "code",
   "execution_count": 4,
   "metadata": {
    "collapsed": true
   },
   "outputs": [],
   "source": [
    "struct FOO\n",
    "    a::Cint\n",
    "    b::Cdouble\n",
    "end"
   ]
  },
  {
   "cell_type": "code",
   "execution_count": 9,
   "metadata": {},
   "outputs": [
    {
     "data": {
      "text/plain": [
       "FOO(1, 2.0)"
      ]
     },
     "execution_count": 9,
     "metadata": {},
     "output_type": "execute_result"
    }
   ],
   "source": [
    "x = ccall((:test1, output), FOO, ())"
   ]
  },
  {
   "cell_type": "code",
   "execution_count": 11,
   "metadata": {},
   "outputs": [
    {
     "data": {
      "text/plain": [
       "FOO(1, 2.0)"
      ]
     },
     "execution_count": 11,
     "metadata": {},
     "output_type": "execute_result"
    }
   ],
   "source": [
    "x = ccall((:test2, output), FOO, (FOO,), x)"
   ]
  },
  {
   "cell_type": "code",
   "execution_count": 15,
   "metadata": {},
   "outputs": [
    {
     "data": {
      "text/plain": [
       "FOO(1, 2.0)"
      ]
     },
     "execution_count": 15,
     "metadata": {},
     "output_type": "execute_result"
    }
   ],
   "source": [
    "p = ccall((:test3, output), FOO, (Ptr{FOO},), Ref(x))"
   ]
  },
  {
   "cell_type": "code",
   "execution_count": 14,
   "metadata": {},
   "outputs": [
    {
     "data": {
      "text/plain": [
       "FOO(1, 2.0)"
      ]
     },
     "execution_count": 14,
     "metadata": {},
     "output_type": "execute_result"
    }
   ],
   "source": [
    "p = ccall((:test3, output), FOO, (Ptr{FOO},), pointer_from_objref(x))"
   ]
  },
  {
   "cell_type": "code",
   "execution_count": 17,
   "metadata": {},
   "outputs": [
    {
     "data": {
      "text/plain": [
       "Ptr{FOO} @0x00007f95ca1d8fc0"
      ]
     },
     "execution_count": 17,
     "metadata": {},
     "output_type": "execute_result"
    }
   ],
   "source": [
    "q = ccall((:test4, output), Ptr{FOO}, (Ptr{FOO},), Ref(x))"
   ]
  },
  {
   "cell_type": "code",
   "execution_count": 18,
   "metadata": {},
   "outputs": [
    {
     "data": {
      "text/plain": [
       "FOO(1, 2.0)"
      ]
     },
     "execution_count": 18,
     "metadata": {},
     "output_type": "execute_result"
    }
   ],
   "source": [
    "unsafe_load(q)"
   ]
  },
  {
   "cell_type": "code",
   "execution_count": 19,
   "metadata": {},
   "outputs": [
    {
     "data": {
      "text/plain": [
       "bar (generic function with 1 method)"
      ]
     },
     "execution_count": 19,
     "metadata": {},
     "output_type": "execute_result"
    }
   ],
   "source": [
    "bar(xr::Ptr{FOO}) = ccall((:test4, output), Ptr{FOO}, (Ptr{FOO},), xr)"
   ]
  },
  {
   "cell_type": "code",
   "execution_count": 20,
   "metadata": {},
   "outputs": [
    {
     "ename": "LoadError",
     "evalue": "\u001b[91mMethodError: no method matching bar(::Base.RefValue{FOO})\u001b[0m\nClosest candidates are:\n  bar(\u001b[91m::Ptr{FOO}\u001b[39m) at In[19]:1\u001b[39m",
     "output_type": "error",
     "traceback": [
      "\u001b[91mMethodError: no method matching bar(::Base.RefValue{FOO})\u001b[0m\nClosest candidates are:\n  bar(\u001b[91m::Ptr{FOO}\u001b[39m) at In[19]:1\u001b[39m",
      "",
      "Stacktrace:",
      " [1] \u001b[1minclude_string\u001b[22m\u001b[22m\u001b[1m(\u001b[22m\u001b[22m::String, ::String\u001b[1m)\u001b[22m\u001b[22m at \u001b[1m./loading.jl:522\u001b[22m\u001b[22m"
     ]
    }
   ],
   "source": [
    "bar(Ref(x))"
   ]
  },
  {
   "cell_type": "code",
   "execution_count": 22,
   "metadata": {},
   "outputs": [
    {
     "data": {
      "text/plain": [
       "Ptr{FOO} @0x00007f95c9fefa10"
      ]
     },
     "execution_count": 22,
     "metadata": {},
     "output_type": "execute_result"
    }
   ],
   "source": [
    "bar(convert(Ptr{FOO}, pointer_from_objref(x)))"
   ]
  },
  {
   "cell_type": "code",
   "execution_count": null,
   "metadata": {
    "collapsed": true
   },
   "outputs": [],
   "source": []
  }
 ],
 "metadata": {
  "kernelspec": {
   "display_name": "Julia 0.6.2",
   "language": "julia",
   "name": "julia-0.6"
  },
  "language_info": {
   "file_extension": ".jl",
   "mimetype": "application/julia",
   "name": "julia",
   "version": "0.6.2"
  }
 },
 "nbformat": 4,
 "nbformat_minor": 2
}
